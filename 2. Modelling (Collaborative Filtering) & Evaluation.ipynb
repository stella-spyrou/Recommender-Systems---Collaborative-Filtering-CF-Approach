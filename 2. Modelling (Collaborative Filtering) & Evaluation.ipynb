{
 "cells": [
  {
   "cell_type": "code",
   "execution_count": 1,
   "metadata": {},
   "outputs": [
    {
     "data": {
      "text/html": [
       "<style scoped>\n",
       "  .ansiout {\n",
       "    display: block;\n",
       "    unicode-bidi: embed;\n",
       "    white-space: pre-wrap;\n",
       "    word-wrap: break-word;\n",
       "    word-break: break-all;\n",
       "    font-family: \"Source Code Pro\", \"Menlo\", monospace;;\n",
       "    font-size: 13px;\n",
       "    color: #555;\n",
       "    margin-left: 4px;\n",
       "    line-height: 19px;\n",
       "  }\n",
       "</style>\n",
       "<div class=\"ansiout\"></div>"
      ]
     },
     "metadata": {},
     "output_type": "display_data"
    }
   ],
   "source": [
    "#Dataframe manipulation library\n",
    "import pandas as pd\n",
    "#Math functions, we'll only need the sqrt function so let's import only that\n",
    "from math import sqrt\n",
    "import numpy as np\n",
    "import matplotlib.pyplot as plt\n",
    "%matplotlib inline"
   ]
  },
  {
   "cell_type": "markdown",
   "metadata": {},
   "source": [
    "## Working with the [rec_sys_merge] table\n",
    "#### Through Feature Engineering the table has been transformed suitably for Collaborative Filtering"
   ]
  },
  {
   "cell_type": "code",
   "execution_count": 7,
   "metadata": {},
   "outputs": [
    {
     "data": {
      "text/html": [
       "<style scoped>\n",
       "  .ansiout {\n",
       "    display: block;\n",
       "    unicode-bidi: embed;\n",
       "    white-space: pre-wrap;\n",
       "    word-wrap: break-word;\n",
       "    word-break: break-all;\n",
       "    font-family: \"Source Code Pro\", \"Menlo\", monospace;;\n",
       "    font-size: 13px;\n",
       "    color: #555;\n",
       "    margin-left: 4px;\n",
       "    line-height: 19px;\n",
       "  }\n",
       "</style>\n",
       "<div class=\"ansiout\"></div>"
      ]
     },
     "metadata": {},
     "output_type": "display_data"
    }
   ],
   "source": [
    "#reading [rec_sys_merge] table for Collaborative filtering\n",
    "rec_sys_merge = pd.read_csv('/dbfs/mnt/data/sandbox/proportion_spent_rec_sys.csv')"
   ]
  },
  {
   "cell_type": "code",
   "execution_count": 8,
   "metadata": {},
   "outputs": [
    {
     "data": {
      "text/html": [
       "<style scoped>\n",
       "  .ansiout {\n",
       "    display: block;\n",
       "    unicode-bidi: embed;\n",
       "    white-space: pre-wrap;\n",
       "    word-wrap: break-word;\n",
       "    word-break: break-all;\n",
       "    font-family: \"Source Code Pro\", \"Menlo\", monospace;;\n",
       "    font-size: 13px;\n",
       "    color: #555;\n",
       "    margin-left: 4px;\n",
       "    line-height: 19px;\n",
       "  }\n",
       "</style>\n",
       "<div class=\"ansiout\">Out[3]: (32268, 6)</div>"
      ]
     },
     "metadata": {},
     "output_type": "display_data"
    }
   ],
   "source": [
    "#table shape - rows and columns\n",
    "rec_sys_merge.shape"
   ]
  },
  {
   "cell_type": "code",
   "execution_count": 9,
   "metadata": {},
   "outputs": [
    {
     "data": {
      "text/html": [
       "<div>\n",
       "<style scoped>\n",
       "    .dataframe tbody tr th:only-of-type {\n",
       "        vertical-align: middle;\n",
       "    }\n",
       "\n",
       "    .dataframe tbody tr th {\n",
       "        vertical-align: top;\n",
       "    }\n",
       "\n",
       "    .dataframe thead th {\n",
       "        text-align: right;\n",
       "    }\n",
       "</style>\n",
       "<table border=\"1\" class=\"dataframe\">\n",
       "  <thead>\n",
       "    <tr style=\"text-align: right;\">\n",
       "      <th></th>\n",
       "      <th>customer_id</th>\n",
       "      <th>category</th>\n",
       "      <th>categoryId</th>\n",
       "      <th>SumAmount_PerCat_PerCust</th>\n",
       "      <th>SumAmount_PerCustomer</th>\n",
       "      <th>proportion_spent</th>\n",
       "    </tr>\n",
       "  </thead>\n",
       "  <tbody>\n",
       "    <tr>\n",
       "      <th>0</th>\n",
       "      <td>00015fc4-6fdc-4120-be42-a49e8bbe8cce</td>\n",
       "      <td>Agricultural Services</td>\n",
       "      <td>0</td>\n",
       "      <td>218.35</td>\n",
       "      <td>836.27</td>\n",
       "      <td>0.261100</td>\n",
       "    </tr>\n",
       "    <tr>\n",
       "      <th>1</th>\n",
       "      <td>00015fc4-6fdc-4120-be42-a49e8bbe8cce</td>\n",
       "      <td>Miscellaneous Stores</td>\n",
       "      <td>6</td>\n",
       "      <td>617.92</td>\n",
       "      <td>836.27</td>\n",
       "      <td>0.738900</td>\n",
       "    </tr>\n",
       "    <tr>\n",
       "      <th>2</th>\n",
       "      <td>000c0667-af47-4229-acec-8b98590d1752</td>\n",
       "      <td>Agricultural Services</td>\n",
       "      <td>0</td>\n",
       "      <td>40.38</td>\n",
       "      <td>1977.69</td>\n",
       "      <td>0.020418</td>\n",
       "    </tr>\n",
       "    <tr>\n",
       "      <th>3</th>\n",
       "      <td>000c0667-af47-4229-acec-8b98590d1752</td>\n",
       "      <td>Airlines</td>\n",
       "      <td>1</td>\n",
       "      <td>49.00</td>\n",
       "      <td>1977.69</td>\n",
       "      <td>0.024776</td>\n",
       "    </tr>\n",
       "    <tr>\n",
       "      <th>4</th>\n",
       "      <td>000c0667-af47-4229-acec-8b98590d1752</td>\n",
       "      <td>Car Rental</td>\n",
       "      <td>3</td>\n",
       "      <td>31.00</td>\n",
       "      <td>1977.69</td>\n",
       "      <td>0.015675</td>\n",
       "    </tr>\n",
       "  </tbody>\n",
       "</table>\n",
       "</div>"
      ]
     },
     "metadata": {},
     "output_type": "display_data"
    }
   ],
   "source": [
    "#Displaying table\n",
    "rec_sys_merge.head()"
   ]
  },
  {
   "cell_type": "code",
   "execution_count": 10,
   "metadata": {},
   "outputs": [
    {
     "data": {
      "text/html": [
       "<div>\n",
       "<style scoped>\n",
       "    .dataframe tbody tr th:only-of-type {\n",
       "        vertical-align: middle;\n",
       "    }\n",
       "\n",
       "    .dataframe tbody tr th {\n",
       "        vertical-align: top;\n",
       "    }\n",
       "\n",
       "    .dataframe thead th {\n",
       "        text-align: right;\n",
       "    }\n",
       "</style>\n",
       "<table border=\"1\" class=\"dataframe\">\n",
       "  <thead>\n",
       "    <tr style=\"text-align: right;\">\n",
       "      <th></th>\n",
       "      <th>customer_id</th>\n",
       "      <th>category</th>\n",
       "      <th>categoryId</th>\n",
       "      <th>proportion_spent</th>\n",
       "    </tr>\n",
       "  </thead>\n",
       "  <tbody>\n",
       "    <tr>\n",
       "      <th>0</th>\n",
       "      <td>00015fc4-6fdc-4120-be42-a49e8bbe8cce</td>\n",
       "      <td>Agricultural Services</td>\n",
       "      <td>0</td>\n",
       "      <td>0.261100</td>\n",
       "    </tr>\n",
       "    <tr>\n",
       "      <th>1</th>\n",
       "      <td>00015fc4-6fdc-4120-be42-a49e8bbe8cce</td>\n",
       "      <td>Miscellaneous Stores</td>\n",
       "      <td>6</td>\n",
       "      <td>0.738900</td>\n",
       "    </tr>\n",
       "    <tr>\n",
       "      <th>2</th>\n",
       "      <td>000c0667-af47-4229-acec-8b98590d1752</td>\n",
       "      <td>Agricultural Services</td>\n",
       "      <td>0</td>\n",
       "      <td>0.020418</td>\n",
       "    </tr>\n",
       "    <tr>\n",
       "      <th>3</th>\n",
       "      <td>000c0667-af47-4229-acec-8b98590d1752</td>\n",
       "      <td>Airlines</td>\n",
       "      <td>1</td>\n",
       "      <td>0.024776</td>\n",
       "    </tr>\n",
       "    <tr>\n",
       "      <th>4</th>\n",
       "      <td>000c0667-af47-4229-acec-8b98590d1752</td>\n",
       "      <td>Car Rental</td>\n",
       "      <td>3</td>\n",
       "      <td>0.015675</td>\n",
       "    </tr>\n",
       "  </tbody>\n",
       "</table>\n",
       "</div>"
      ]
     },
     "metadata": {},
     "output_type": "display_data"
    }
   ],
   "source": [
    "#[Dropping the columns that they will not be used in Collaborative Filtering\n",
    "#'SumAmount_PerCat_PerCust' and 'SumAmount_PerCustomer'\n",
    "#they were designed in order to create the column 'proportion_spent'] part of the FEATURE ENGINEERING\n",
    "\n",
    "to_drop_rec_sys = ['SumAmount_PerCat_PerCust', 'SumAmount_PerCustomer']\n",
    "rec_sys_merge.drop(to_drop_rec_sys, axis = 1, inplace=True)\n",
    "rec_sys_merge.head()"
   ]
  },
  {
   "cell_type": "code",
   "execution_count": 11,
   "metadata": {},
   "outputs": [
    {
     "data": {
      "text/html": [
       "<style scoped>\n",
       "  .ansiout {\n",
       "    display: block;\n",
       "    unicode-bidi: embed;\n",
       "    white-space: pre-wrap;\n",
       "    word-wrap: break-word;\n",
       "    word-break: break-all;\n",
       "    font-family: \"Source Code Pro\", \"Menlo\", monospace;;\n",
       "    font-size: 13px;\n",
       "    color: #555;\n",
       "    margin-left: 4px;\n",
       "    line-height: 19px;\n",
       "  }\n",
       "</style>\n",
       "<div class=\"ansiout\"></div>"
      ]
     },
     "metadata": {},
     "output_type": "display_data"
    }
   ],
   "source": [
    "#Limiting floats to five decimal points\n",
    "#pd.set_option('display.float_format', lambda x: '%.5f' % x)"
   ]
  },
  {
   "cell_type": "code",
   "execution_count": 12,
   "metadata": {},
   "outputs": [
    {
     "data": {
      "text/html": [
       "<div>\n",
       "<style scoped>\n",
       "    .dataframe tbody tr th:only-of-type {\n",
       "        vertical-align: middle;\n",
       "    }\n",
       "\n",
       "    .dataframe tbody tr th {\n",
       "        vertical-align: top;\n",
       "    }\n",
       "\n",
       "    .dataframe thead th {\n",
       "        text-align: right;\n",
       "    }\n",
       "</style>\n",
       "<table border=\"1\" class=\"dataframe\">\n",
       "  <thead>\n",
       "    <tr style=\"text-align: right;\">\n",
       "      <th></th>\n",
       "      <th>customer_id</th>\n",
       "      <th>category</th>\n",
       "      <th>categoryId</th>\n",
       "      <th>proportion_spent</th>\n",
       "    </tr>\n",
       "  </thead>\n",
       "  <tbody>\n",
       "    <tr>\n",
       "      <th>0</th>\n",
       "      <td>00015fc4-6fdc-4120-be42-a49e8bbe8cce</td>\n",
       "      <td>Agricultural Services</td>\n",
       "      <td>0</td>\n",
       "      <td>0.261100</td>\n",
       "    </tr>\n",
       "    <tr>\n",
       "      <th>1</th>\n",
       "      <td>00015fc4-6fdc-4120-be42-a49e8bbe8cce</td>\n",
       "      <td>Miscellaneous Stores</td>\n",
       "      <td>6</td>\n",
       "      <td>0.738900</td>\n",
       "    </tr>\n",
       "    <tr>\n",
       "      <th>2</th>\n",
       "      <td>000c0667-af47-4229-acec-8b98590d1752</td>\n",
       "      <td>Agricultural Services</td>\n",
       "      <td>0</td>\n",
       "      <td>0.020418</td>\n",
       "    </tr>\n",
       "    <tr>\n",
       "      <th>3</th>\n",
       "      <td>000c0667-af47-4229-acec-8b98590d1752</td>\n",
       "      <td>Airlines</td>\n",
       "      <td>1</td>\n",
       "      <td>0.024776</td>\n",
       "    </tr>\n",
       "    <tr>\n",
       "      <th>4</th>\n",
       "      <td>000c0667-af47-4229-acec-8b98590d1752</td>\n",
       "      <td>Car Rental</td>\n",
       "      <td>3</td>\n",
       "      <td>0.015675</td>\n",
       "    </tr>\n",
       "  </tbody>\n",
       "</table>\n",
       "</div>"
      ]
     },
     "metadata": {},
     "output_type": "display_data"
    }
   ],
   "source": [
    "rec_sys_merge.head()"
   ]
  },
  {
   "cell_type": "code",
   "execution_count": 13,
   "metadata": {},
   "outputs": [
    {
     "data": {
      "image/png": "[encoded data removed]"
     },
     "metadata": {},
     "output_type": "display_data"
    }
   ],
   "source": [
    "#Long Tail Plot Example\n",
    "\n",
    "import matplotlib.pyplot as plt\n",
    "#import recmetrics\n",
    "\n",
    "fig = plt.figure(figsize=(15, 7))\n",
    "recmetrics.long_tail_plot(df=rec_sys_merge, \n",
    "             item_id_column=\"categoryId\", \n",
    "             interaction_type=\"proportion_spent\", \n",
    "             percentage=0.5,\n",
    "             x_labels=False)"
   ]
  },
  {
   "cell_type": "markdown",
   "metadata": {},
   "source": [
    "### COLLABORATIVE FILTERING"
   ]
  },
  {
   "cell_type": "markdown",
   "metadata": {},
   "source": [
    "__Recommendation systems__ are a collection of algorithms used to recommend items to users based on information taken from the user. These systems have become ubiquitous and they can be commonly seen in online stores, movies databases and job finders.\n",
    "In the following commands of this notebook, I will explore recommendation systems based on __Collaborative Filtering__ and implement simple version of one using Python and the Pandas library."
   ]
  },
  {
   "cell_type": "markdown",
   "metadata": {},
   "source": [
    "The thechnique of __Collaborative Filtering__, is also known as __User-User Filtering__. As hinted by its alternate name, this technique uses other users to recommend items to the input user. It attempts to find users that have similar preferences and opinions as the input and then recommends items that they have liked to the input. There are several methods of finding similar users (Even some making use of Machine Learning), and the one I will be using here is going to be based on the __Pearson Correlation Function__."
   ]
  },
  {
   "cell_type": "markdown",
   "metadata": {},
   "source": [
    "__The process for creating a User Based recommendation system is as follows:__\n",
    "\n",
    "- Select a user with the categories the user has transacted\n",
    "- Based on his spend to categories, find the top X neighbours \n",
    "- Get the spend category record of the user for each neighbour.\n",
    "- Calculate a similarity score using some formula\n",
    "- Recommend the items with the highest score\n",
    "\n",
    "\n",
    "I begin by creating an __input user__ to recommend Categories to:\n",
    "\n",
    "Note: Adding more categories, simply by increasing the amount of (category) elements in the userInput."
   ]
  },
  {
   "cell_type": "code",
   "execution_count": 20,
   "metadata": {},
   "outputs": [
    {
     "data": {
      "text/html": [
       "<div>\n",
       "<style scoped>\n",
       "    .dataframe tbody tr th:only-of-type {\n",
       "        vertical-align: middle;\n",
       "    }\n",
       "\n",
       "    .dataframe tbody tr th {\n",
       "        vertical-align: top;\n",
       "    }\n",
       "\n",
       "    .dataframe thead th {\n",
       "        text-align: right;\n",
       "    }\n",
       "</style>\n",
       "<table border=\"1\" class=\"dataframe\">\n",
       "  <thead>\n",
       "    <tr style=\"text-align: right;\">\n",
       "      <th></th>\n",
       "      <th>category</th>\n",
       "      <th>proportion_spent</th>\n",
       "    </tr>\n",
       "  </thead>\n",
       "  <tbody>\n",
       "    <tr>\n",
       "      <th>0</th>\n",
       "      <td>Agricultural Services</td>\n",
       "      <td>0.019200</td>\n",
       "    </tr>\n",
       "    <tr>\n",
       "      <th>1</th>\n",
       "      <td>Business Services</td>\n",
       "      <td>47.814200</td>\n",
       "    </tr>\n",
       "    <tr>\n",
       "      <th>2</th>\n",
       "      <td>Miscellaneous Stores</td>\n",
       "      <td>1.557200</td>\n",
       "    </tr>\n",
       "    <tr>\n",
       "      <th>3</th>\n",
       "      <td>Retail Outlet Services</td>\n",
       "      <td>0.265400</td>\n",
       "    </tr>\n",
       "  </tbody>\n",
       "</table>\n",
       "</div>"
      ]
     },
     "metadata": {},
     "output_type": "display_data"
    }
   ],
   "source": [
    "#userInput = [\n",
    "#            {'category':'Agricultural Services', 'proportion_spent':0.0192},\n",
    "#            {'category':'Business Services', 'proportion_spent':47.8142},\n",
    "#            {'category':'Miscellaneous Stores', 'proportion_spent':1.5572},\n",
    "#            {'category':'Retail Outlet Services', 'proportion_spent':0.2654000000000001} \n",
    "#          ] \n",
    "#inputCategories = pd.DataFrame(userInput)\n",
    "#inputCategories"
   ]
  },
  {
   "cell_type": "code",
   "execution_count": 21,
   "metadata": {},
   "outputs": [
    {
     "data": {
      "text/html": [
       "<div>\n",
       "<style scoped>\n",
       "    .dataframe tbody tr th:only-of-type {\n",
       "        vertical-align: middle;\n",
       "    }\n",
       "\n",
       "    .dataframe tbody tr th {\n",
       "        vertical-align: top;\n",
       "    }\n",
       "\n",
       "    .dataframe thead th {\n",
       "        text-align: right;\n",
       "    }\n",
       "</style>\n",
       "<table border=\"1\" class=\"dataframe\">\n",
       "  <thead>\n",
       "    <tr style=\"text-align: right;\">\n",
       "      <th></th>\n",
       "      <th>category</th>\n",
       "      <th>proportion_spent</th>\n",
       "    </tr>\n",
       "  </thead>\n",
       "  <tbody>\n",
       "    <tr>\n",
       "      <th>0</th>\n",
       "      <td>Agricultural Services</td>\n",
       "      <td>0.209110</td>\n",
       "    </tr>\n",
       "    <tr>\n",
       "      <th>1</th>\n",
       "      <td>Business Services</td>\n",
       "      <td>0.082534</td>\n",
       "    </tr>\n",
       "    <tr>\n",
       "      <th>2</th>\n",
       "      <td>Clothing Stores</td>\n",
       "      <td>0.051550</td>\n",
       "    </tr>\n",
       "    <tr>\n",
       "      <th>3</th>\n",
       "      <td>Miscellaneous Stores</td>\n",
       "      <td>0.491298</td>\n",
       "    </tr>\n",
       "    <tr>\n",
       "      <th>4</th>\n",
       "      <td>Retail Outlet Services</td>\n",
       "      <td>0.165508</td>\n",
       "    </tr>\n",
       "  </tbody>\n",
       "</table>\n",
       "</div>"
      ]
     },
     "metadata": {},
     "output_type": "display_data"
    }
   ],
   "source": [
    "#Creating an input user/customer to recommend categories \n",
    "#The input user has customer_id: '227714a3-e0a9-4260-8d67-fc22665b4992' \n",
    "#The ** number of transactions ** that are associated with the input user is equal to 313 transactions.\n",
    "\n",
    "#userInput = [\n",
    "#            {'category':'Agricultural Services', 'proportion_spent':0.209110},\n",
    "#            {'category':'Business Services', 'proportion_spent':0.082534},\n",
    "#            {'category':'Clothing Stores', 'proportion_spent':0.051550},\n",
    "#            {'category':'Miscellaneous Stores', 'proportion_spent':0.491298},\n",
    "#            {'category':'Retail Outlet Services', 'proportion_spent':0.165508} \n",
    "#          ] \n",
    "#inputCategories = pd.DataFrame(userInput)\n",
    "#inputCategories"
   ]
  },
  {
   "cell_type": "code",
   "execution_count": 22,
   "metadata": {},
   "outputs": [
    {
     "data": {
      "text/html": [
       "<style scoped>\n",
       "  .table-result-container {\n",
       "    max-height: 300px;\n",
       "    overflow: auto;\n",
       "  }\n",
       "  table, th, td {\n",
       "    border: 1px solid black;\n",
       "    border-collapse: collapse;\n",
       "  }\n",
       "  th, td {\n",
       "    padding: 5px;\n",
       "  }\n",
       "  th {\n",
       "    text-align: left;\n",
       "  }\n",
       "</style><div class='table-result-container'><table class='table-result'><thead style='background-color: white'><tr><th>customer_id</th><th>category</th><th>categoryId</th><th>proportion_spent</th></tr></thead><tbody><tr><td>227714a3-e0a9-4260-8d67-fc22665b4992</td><td>Agricultural Services</td><td>0</td><td>0.08465257773910387</td></tr><tr><td>227714a3-e0a9-4260-8d67-fc22665b4992</td><td>Airlines</td><td>1</td><td>0.2546177940875575</td></tr><tr><td>227714a3-e0a9-4260-8d67-fc22665b4992</td><td>Car Rental</td><td>3</td><td>0.05600447120289916</td></tr><tr><td>227714a3-e0a9-4260-8d67-fc22665b4992</td><td>Clothing Stores</td><td>4</td><td>0.008656776129049686</td></tr><tr><td>227714a3-e0a9-4260-8d67-fc22665b4992</td><td>Lodging</td><td>5</td><td>0.07944075175531794</td></tr><tr><td>227714a3-e0a9-4260-8d67-fc22665b4992</td><td>Miscellaneous Stores</td><td>6</td><td>0.3052403889507093</td></tr><tr><td>227714a3-e0a9-4260-8d67-fc22665b4992</td><td>Retail Outlet Services</td><td>7</td><td>0.21138724013536286</td></tr></tbody></table></div>"
      ]
     },
     "metadata": {},
     "output_type": "display_data"
    }
   ],
   "source": [
    "is_mycust = rec_sys_merge['customer_id']=='227714a3-e0a9-4260-8d67-fc22665b4992'    #'00015fc4-6fdc-4120-be42-a49e8bbe8cce', '0016ee8d-e2d6-4dd9-9559-3be13e9f53b5'\n",
    "print(is_mycust.head())\n",
    "rec_sys_merge_is_mycust = rec_sys_merge[is_mycust]\n",
    "print(rec_sys_merge_is_mycust.shape)\n",
    "display(rec_sys_merge_is_mycust)"
   ]
  },
  {
   "cell_type": "code",
   "execution_count": 23,
   "metadata": {},
   "outputs": [
    {
     "data": {
      "text/html": [
       "<div>\n",
       "<style scoped>\n",
       "    .dataframe tbody tr th:only-of-type {\n",
       "        vertical-align: middle;\n",
       "    }\n",
       "\n",
       "    .dataframe tbody tr th {\n",
       "        vertical-align: top;\n",
       "    }\n",
       "\n",
       "    .dataframe thead th {\n",
       "        text-align: right;\n",
       "    }\n",
       "</style>\n",
       "<table border=\"1\" class=\"dataframe\">\n",
       "  <thead>\n",
       "    <tr style=\"text-align: right;\">\n",
       "      <th></th>\n",
       "      <th>category</th>\n",
       "      <th>proportion_spent</th>\n",
       "    </tr>\n",
       "  </thead>\n",
       "  <tbody>\n",
       "    <tr>\n",
       "      <th>0</th>\n",
       "      <td>Agricultural Services</td>\n",
       "      <td>0.084653</td>\n",
       "    </tr>\n",
       "    <tr>\n",
       "      <th>1</th>\n",
       "      <td>Airlines</td>\n",
       "      <td>0.254618</td>\n",
       "    </tr>\n",
       "    <tr>\n",
       "      <th>2</th>\n",
       "      <td>Car Rental</td>\n",
       "      <td>0.056004</td>\n",
       "    </tr>\n",
       "    <tr>\n",
       "      <th>3</th>\n",
       "      <td>Clothing Stores</td>\n",
       "      <td>0.008657</td>\n",
       "    </tr>\n",
       "    <tr>\n",
       "      <th>4</th>\n",
       "      <td>Lodging</td>\n",
       "      <td>0.079441</td>\n",
       "    </tr>\n",
       "    <tr>\n",
       "      <th>5</th>\n",
       "      <td>Miscellaneous Stores</td>\n",
       "      <td>0.305240</td>\n",
       "    </tr>\n",
       "    <tr>\n",
       "      <th>6</th>\n",
       "      <td>Retail Outlet Services</td>\n",
       "      <td>0.211387</td>\n",
       "    </tr>\n",
       "  </tbody>\n",
       "</table>\n",
       "</div>"
      ]
     },
     "metadata": {},
     "output_type": "display_data"
    }
   ],
   "source": [
    "#Creating an input user/customer to recommend categories \n",
    "#The input user has customer_id: '227714a3-e0a9-4260-8d67-fc22665b4992' \n",
    "#The number of transactions that are associated with the input user is equal to 313 transactions.\n",
    "\n",
    "userInput = [\n",
    "            {'category':'Agricultural Services', 'proportion_spent':0.08465257773910387},\n",
    "            {'category':'Airlines', 'proportion_spent':0.2546177940875575},\n",
    "            {'category':'Car Rental', 'proportion_spent':0.05600447120289916},\n",
    "            {'category':'Clothing Stores', 'proportion_spent':0.008656776129049686},\n",
    "            {'category':'Lodging', 'proportion_spent':0.07944075175531794},\n",
    "            {'category':'Miscellaneous Stores', 'proportion_spent':0.3052403889507093},\n",
    "            {'category':'Retail Outlet Services', 'proportion_spent':0.21138724013536286} \n",
    "          ] \n",
    "inputCategories = pd.DataFrame(userInput)\n",
    "inputCategories"
   ]
  },
  {
   "cell_type": "code",
   "execution_count": 24,
   "metadata": {},
   "outputs": [
    {
     "data": {
      "text/html": [
       "<style scoped>\n",
       "  .ansiout {\n",
       "    display: block;\n",
       "    unicode-bidi: embed;\n",
       "    white-space: pre-wrap;\n",
       "    word-wrap: break-word;\n",
       "    word-break: break-all;\n",
       "    font-family: \"Source Code Pro\", \"Menlo\", monospace;;\n",
       "    font-size: 13px;\n",
       "    color: #555;\n",
       "    margin-left: 4px;\n",
       "    line-height: 19px;\n",
       "  }\n",
       "</style>\n",
       "<div class=\"ansiout\">Out[10]: (7, 2)</div>"
      ]
     },
     "metadata": {},
     "output_type": "display_data"
    }
   ],
   "source": [
    "#shape\n",
    "inputCategories.shape"
   ]
  },
  {
   "cell_type": "code",
   "execution_count": 25,
   "metadata": {},
   "outputs": [
    {
     "data": {
      "text/html": [
       "<div>\n",
       "<style scoped>\n",
       "    .dataframe tbody tr th:only-of-type {\n",
       "        vertical-align: middle;\n",
       "    }\n",
       "\n",
       "    .dataframe tbody tr th {\n",
       "        vertical-align: top;\n",
       "    }\n",
       "\n",
       "    .dataframe thead th {\n",
       "        text-align: right;\n",
       "    }\n",
       "</style>\n",
       "<table border=\"1\" class=\"dataframe\">\n",
       "  <thead>\n",
       "    <tr style=\"text-align: right;\">\n",
       "      <th></th>\n",
       "      <th>category</th>\n",
       "      <th>categoryId</th>\n",
       "      <th>proportion_spent</th>\n",
       "    </tr>\n",
       "  </thead>\n",
       "  <tbody>\n",
       "    <tr>\n",
       "      <th>0</th>\n",
       "      <td>Agricultural Services</td>\n",
       "      <td>0</td>\n",
       "      <td>0.084653</td>\n",
       "    </tr>\n",
       "    <tr>\n",
       "      <th>1</th>\n",
       "      <td>Airlines</td>\n",
       "      <td>1</td>\n",
       "      <td>0.254618</td>\n",
       "    </tr>\n",
       "    <tr>\n",
       "      <th>2</th>\n",
       "      <td>Car Rental</td>\n",
       "      <td>3</td>\n",
       "      <td>0.056004</td>\n",
       "    </tr>\n",
       "    <tr>\n",
       "      <th>3</th>\n",
       "      <td>Clothing Stores</td>\n",
       "      <td>4</td>\n",
       "      <td>0.008657</td>\n",
       "    </tr>\n",
       "    <tr>\n",
       "      <th>4</th>\n",
       "      <td>Lodging</td>\n",
       "      <td>5</td>\n",
       "      <td>0.079441</td>\n",
       "    </tr>\n",
       "    <tr>\n",
       "      <th>5</th>\n",
       "      <td>Miscellaneous Stores</td>\n",
       "      <td>6</td>\n",
       "      <td>0.305240</td>\n",
       "    </tr>\n",
       "    <tr>\n",
       "      <th>6</th>\n",
       "      <td>Retail Outlet Services</td>\n",
       "      <td>7</td>\n",
       "      <td>0.211387</td>\n",
       "    </tr>\n",
       "  </tbody>\n",
       "</table>\n",
       "</div>"
      ]
     },
     "metadata": {},
     "output_type": "display_data"
    }
   ],
   "source": [
    "#Filtering out the categories by master-name-category - I create the inputId variable-table which has shape [rows(20,139) , columns 4]\n",
    "inputId = rec_sys_merge[rec_sys_merge['category'].isin(inputCategories['category'].tolist())]\n",
    "\n",
    "#Then merging it so we can get the categoryId. It's implicitly merging it by category.\n",
    "inputCategories = pd.merge(inputId, inputCategories)\n",
    "\n",
    "#Dropping information we won't use from the input dataframe\n",
    "inputCategories = inputCategories.drop('customer_id', 1)\n",
    "\n",
    "#Final input dataframe\n",
    "#If a category I added in above isn't here, then it might not be in the original \n",
    "#dataframe or it might spelled differently, check capitalisation.\n",
    "inputCategories"
   ]
  },
  {
   "cell_type": "code",
   "execution_count": 26,
   "metadata": {},
   "outputs": [
    {
     "data": {
      "text/html": [
       "<style scoped>\n",
       "  .ansiout {\n",
       "    display: block;\n",
       "    unicode-bidi: embed;\n",
       "    white-space: pre-wrap;\n",
       "    word-wrap: break-word;\n",
       "    word-break: break-all;\n",
       "    font-family: \"Source Code Pro\", \"Menlo\", monospace;;\n",
       "    font-size: 13px;\n",
       "    color: #555;\n",
       "    margin-left: 4px;\n",
       "    line-height: 19px;\n",
       "  }\n",
       "</style>\n",
       "<div class=\"ansiout\">Out[8]: (7, 3)</div>"
      ]
     },
     "metadata": {},
     "output_type": "display_data"
    }
   ],
   "source": [
    "inputCategories.shape"
   ]
  },
  {
   "cell_type": "markdown",
   "metadata": {},
   "source": [
    "#### The customers who has transacted in the same categories\n",
    "\n",
    "Now with the category ID's in our input, I can now get the subset of users that are interested and have made transactions in the categories in our input."
   ]
  },
  {
   "cell_type": "code",
   "execution_count": 28,
   "metadata": {},
   "outputs": [
    {
     "data": {
      "text/html": [
       "<div>\n",
       "<style scoped>\n",
       "    .dataframe tbody tr th:only-of-type {\n",
       "        vertical-align: middle;\n",
       "    }\n",
       "\n",
       "    .dataframe tbody tr th {\n",
       "        vertical-align: top;\n",
       "    }\n",
       "\n",
       "    .dataframe thead th {\n",
       "        text-align: right;\n",
       "    }\n",
       "</style>\n",
       "<table border=\"1\" class=\"dataframe\">\n",
       "  <thead>\n",
       "    <tr style=\"text-align: right;\">\n",
       "      <th></th>\n",
       "      <th>customer_id</th>\n",
       "      <th>category</th>\n",
       "      <th>categoryId</th>\n",
       "      <th>proportion_spent</th>\n",
       "    </tr>\n",
       "  </thead>\n",
       "  <tbody>\n",
       "    <tr>\n",
       "      <th>0</th>\n",
       "      <td>00015fc4-6fdc-4120-be42-a49e8bbe8cce</td>\n",
       "      <td>Agricultural Services</td>\n",
       "      <td>0</td>\n",
       "      <td>0.261100</td>\n",
       "    </tr>\n",
       "    <tr>\n",
       "      <th>1</th>\n",
       "      <td>00015fc4-6fdc-4120-be42-a49e8bbe8cce</td>\n",
       "      <td>Miscellaneous Stores</td>\n",
       "      <td>6</td>\n",
       "      <td>0.738900</td>\n",
       "    </tr>\n",
       "    <tr>\n",
       "      <th>2</th>\n",
       "      <td>000c0667-af47-4229-acec-8b98590d1752</td>\n",
       "      <td>Agricultural Services</td>\n",
       "      <td>0</td>\n",
       "      <td>0.020418</td>\n",
       "    </tr>\n",
       "    <tr>\n",
       "      <th>3</th>\n",
       "      <td>000c0667-af47-4229-acec-8b98590d1752</td>\n",
       "      <td>Airlines</td>\n",
       "      <td>1</td>\n",
       "      <td>0.024776</td>\n",
       "    </tr>\n",
       "    <tr>\n",
       "      <th>4</th>\n",
       "      <td>000c0667-af47-4229-acec-8b98590d1752</td>\n",
       "      <td>Car Rental</td>\n",
       "      <td>3</td>\n",
       "      <td>0.015675</td>\n",
       "    </tr>\n",
       "  </tbody>\n",
       "</table>\n",
       "</div>"
      ]
     },
     "metadata": {},
     "output_type": "display_data"
    }
   ],
   "source": [
    "#Filtering out customers that have made transaction in the categories that the input has also transacted and storing it\n",
    "userSubset = rec_sys_merge[rec_sys_merge['categoryId'].isin(inputCategories['categoryId'].tolist())]\n",
    "userSubset.head()"
   ]
  },
  {
   "cell_type": "code",
   "execution_count": 29,
   "metadata": {},
   "outputs": [
    {
     "data": {
      "text/html": [
       "<style scoped>\n",
       "  .ansiout {\n",
       "    display: block;\n",
       "    unicode-bidi: embed;\n",
       "    white-space: pre-wrap;\n",
       "    word-wrap: break-word;\n",
       "    word-break: break-all;\n",
       "    font-family: \"Source Code Pro\", \"Menlo\", monospace;;\n",
       "    font-size: 13px;\n",
       "    color: #555;\n",
       "    margin-left: 4px;\n",
       "    line-height: 19px;\n",
       "  }\n",
       "</style>\n",
       "<div class=\"ansiout\"></div>"
      ]
     },
     "metadata": {},
     "output_type": "display_data"
    }
   ],
   "source": [
    "#Groupby creates several sub dataframes where they all have the same value in the column specified as the parameter\n",
    "userSubsetGroup = userSubset.groupby(['customer_id'])"
   ]
  },
  {
   "cell_type": "code",
   "execution_count": 30,
   "metadata": {},
   "outputs": [
    {
     "data": {
      "text/html": [
       "<div>\n",
       "<style scoped>\n",
       "    .dataframe tbody tr th:only-of-type {\n",
       "        vertical-align: middle;\n",
       "    }\n",
       "\n",
       "    .dataframe tbody tr th {\n",
       "        vertical-align: top;\n",
       "    }\n",
       "\n",
       "    .dataframe thead th {\n",
       "        text-align: right;\n",
       "    }\n",
       "</style>\n",
       "<table border=\"1\" class=\"dataframe\">\n",
       "  <thead>\n",
       "    <tr style=\"text-align: right;\">\n",
       "      <th></th>\n",
       "      <th>customer_id</th>\n",
       "      <th>category</th>\n",
       "      <th>categoryId</th>\n",
       "      <th>proportion_spent</th>\n",
       "    </tr>\n",
       "  </thead>\n",
       "  <tbody>\n",
       "    <tr>\n",
       "      <th>15</th>\n",
       "      <td>002009ca-739b-48a6-a040-5d46b0ab402e</td>\n",
       "      <td>Agricultural Services</td>\n",
       "      <td>0</td>\n",
       "      <td>0.059193</td>\n",
       "    </tr>\n",
       "    <tr>\n",
       "      <th>16</th>\n",
       "      <td>002009ca-739b-48a6-a040-5d46b0ab402e</td>\n",
       "      <td>Miscellaneous Stores</td>\n",
       "      <td>6</td>\n",
       "      <td>0.282747</td>\n",
       "    </tr>\n",
       "    <tr>\n",
       "      <th>17</th>\n",
       "      <td>002009ca-739b-48a6-a040-5d46b0ab402e</td>\n",
       "      <td>Retail Outlet Services</td>\n",
       "      <td>7</td>\n",
       "      <td>0.658060</td>\n",
       "    </tr>\n",
       "  </tbody>\n",
       "</table>\n",
       "</div>"
      ]
     },
     "metadata": {},
     "output_type": "display_data"
    }
   ],
   "source": [
    "#let's look at one of the customers, e.g. the one with customer_id='***...ab402e'\n",
    "userSubsetGroup.get_group('002009ca-739b-48a6-a040-5d46b0ab402e')"
   ]
  },
  {
   "cell_type": "markdown",
   "metadata": {},
   "source": [
    "__Let's also sort these groups so the users that share the most categories in common with the input have higher priority. This provides a richer recommendation since we won't go through every single user.__"
   ]
  },
  {
   "cell_type": "code",
   "execution_count": 32,
   "metadata": {},
   "outputs": [
    {
     "data": {
      "text/html": [
       "<style scoped>\n",
       "  .ansiout {\n",
       "    display: block;\n",
       "    unicode-bidi: embed;\n",
       "    white-space: pre-wrap;\n",
       "    word-wrap: break-word;\n",
       "    word-break: break-all;\n",
       "    font-family: \"Source Code Pro\", \"Menlo\", monospace;;\n",
       "    font-size: 13px;\n",
       "    color: #555;\n",
       "    margin-left: 4px;\n",
       "    line-height: 19px;\n",
       "  }\n",
       "</style>\n",
       "<div class=\"ansiout\"></div>"
      ]
     },
     "metadata": {},
     "output_type": "display_data"
    }
   ],
   "source": [
    "#Sorting it so Customers with categories most in common with the input customer will have priority\n",
    "userSubsetGroup = sorted(userSubsetGroup,  key=lambda x: len(x[1]), reverse=True)"
   ]
  },
  {
   "cell_type": "code",
   "execution_count": 33,
   "metadata": {},
   "outputs": [
    {
     "data": {
      "text/html": [
       "<style scoped>\n",
       "  .ansiout {\n",
       "    display: block;\n",
       "    unicode-bidi: embed;\n",
       "    white-space: pre-wrap;\n",
       "    word-wrap: break-word;\n",
       "    word-break: break-all;\n",
       "    font-family: \"Source Code Pro\", \"Menlo\", monospace;;\n",
       "    font-size: 13px;\n",
       "    color: #555;\n",
       "    margin-left: 4px;\n",
       "    line-height: 19px;\n",
       "  }\n",
       "</style>\n",
       "<div class=\"ansiout\">Out[13]: [(&#39;01f6db41-59aa-447f-9ce0-e92e429d8941&#39;,\n",
       "                                customer_id  ... proportion_spent\n",
       "  265  01f6db41-59aa-447f-9ce0-e92e429d8941  ...         0.001391\n",
       "  266  01f6db41-59aa-447f-9ce0-e92e429d8941  ...         0.467496\n",
       "  268  01f6db41-59aa-447f-9ce0-e92e429d8941  ...         0.185690\n",
       "  269  01f6db41-59aa-447f-9ce0-e92e429d8941  ...         0.001794\n",
       "  270  01f6db41-59aa-447f-9ce0-e92e429d8941  ...         0.331410\n",
       "  271  01f6db41-59aa-447f-9ce0-e92e429d8941  ...         0.004759\n",
       "  272  01f6db41-59aa-447f-9ce0-e92e429d8941  ...         0.002276\n",
       "  \n",
       "  [7 rows x 4 columns]),\n",
       " (&#39;056a4d7d-1f0a-4d0b-973c-69c838a6b039&#39;,\n",
       "                                customer_id  ... proportion_spent\n",
       "  657  056a4d7d-1f0a-4d0b-973c-69c838a6b039  ...         0.014756\n",
       "  658  056a4d7d-1f0a-4d0b-973c-69c838a6b039  ...         0.459020\n",
       "  659  056a4d7d-1f0a-4d0b-973c-69c838a6b039  ...         0.050363\n",
       "  660  056a4d7d-1f0a-4d0b-973c-69c838a6b039  ...         0.013401\n",
       "  661  056a4d7d-1f0a-4d0b-973c-69c838a6b039  ...         0.271719\n",
       "  662  056a4d7d-1f0a-4d0b-973c-69c838a6b039  ...         0.070551\n",
       "  663  056a4d7d-1f0a-4d0b-973c-69c838a6b039  ...         0.120189\n",
       "  \n",
       "  [7 rows x 4 columns]),\n",
       " (&#39;05bbc0c2-4804-4469-981d-16d75c8b8a36&#39;,\n",
       "                                customer_id  ... proportion_spent\n",
       "  724  05bbc0c2-4804-4469-981d-16d75c8b8a36  ...         0.072705\n",
       "  725  05bbc0c2-4804-4469-981d-16d75c8b8a36  ...         0.027020\n",
       "  726  05bbc0c2-4804-4469-981d-16d75c8b8a36  ...         0.007836\n",
       "  727  05bbc0c2-4804-4469-981d-16d75c8b8a36  ...         0.030055\n",
       "  728  05bbc0c2-4804-4469-981d-16d75c8b8a36  ...         0.028336\n",
       "  729  05bbc0c2-4804-4469-981d-16d75c8b8a36  ...         0.001254\n",
       "  730  05bbc0c2-4804-4469-981d-16d75c8b8a36  ...         0.832794\n",
       "  \n",
       "  [7 rows x 4 columns])]</div>"
      ]
     },
     "metadata": {},
     "output_type": "display_data"
    }
   ],
   "source": [
    "userSubsetGroup[0:3]"
   ]
  },
  {
   "cell_type": "markdown",
   "metadata": {},
   "source": [
    "#### Similarity of users to input user\n",
    "Next, I am going to compare all users (not really all !!!) to our specified user and find the one that is most similar.  \n",
    "I am going to find out how similar each user is to the input through the __Pearson Correlation Coefficient__. It is used to measure the strength of a linear association between two variables. The formula for finding this coefficient between sets X and Y with N values can be seen below. \n",
    "\n",
    "Why Pearson Correlation?\n",
    "\n",
    "Pearson correlation is invariant to scaling, i.e. multiplying all elements by a nonzero constant or adding any constant to all elements. For example, if you have two vectors X and Y,then, pearson(X, Y) == pearson(X, 2 * Y + 3). This is a pretty important property in recommendation systems because for example two users might spend in two series of categories totally different amount in terms of absolute amount, but they would be similar users (i.e. with similar ideas) with similar spending in various scales .\n",
    "\n",
    "![alt text](https://wikimedia.org/api/rest_v1/media/math/render/svg/bd1ccc2979b0fd1c1aec96e386f686ae874f9ec0 \"Pearson Correlation\")\n",
    "\n",
    "The values given by the formula vary from r = -1 to r = 1, where 1 forms a direct correlation between the two entities (it means a perfect positive correlation) and -1 forms a perfect negative correlation. \n",
    "\n",
    "In our case, a 1 means that the two users have similar tastes while a -1 means the opposite."
   ]
  },
  {
   "cell_type": "code",
   "execution_count": 35,
   "metadata": {},
   "outputs": [
    {
     "data": {
      "text/html": [
       "<style scoped>\n",
       "  .ansiout {\n",
       "    display: block;\n",
       "    unicode-bidi: embed;\n",
       "    white-space: pre-wrap;\n",
       "    word-wrap: break-word;\n",
       "    word-break: break-all;\n",
       "    font-family: \"Source Code Pro\", \"Menlo\", monospace;;\n",
       "    font-size: 13px;\n",
       "    color: #555;\n",
       "    margin-left: 4px;\n",
       "    line-height: 19px;\n",
       "  }\n",
       "</style>\n",
       "<div class=\"ansiout\"></div>"
      ]
     },
     "metadata": {},
     "output_type": "display_data"
    }
   ],
   "source": [
    "#selecting a subset of users to iterate through. \n",
    "#This limit is imposed because we don't want to waste too much time going through every single user.\n",
    "\n",
    "userSubsetGroup = userSubsetGroup[0:100]"
   ]
  },
  {
   "cell_type": "markdown",
   "metadata": {},
   "source": [
    "Calculating the __Pearson Correlation__ between _input user_ and _subset group_, and __store it in a dictionary__, where the _key_ is the _user Id_ and the _value_ is the _coefficient_."
   ]
  },
  {
   "cell_type": "code",
   "execution_count": 37,
   "metadata": {},
   "outputs": [
    {
     "data": {
      "text/html": [
       "<style scoped>\n",
       "  .ansiout {\n",
       "    display: block;\n",
       "    unicode-bidi: embed;\n",
       "    white-space: pre-wrap;\n",
       "    word-wrap: break-word;\n",
       "    word-break: break-all;\n",
       "    font-family: \"Source Code Pro\", \"Menlo\", monospace;;\n",
       "    font-size: 13px;\n",
       "    color: #555;\n",
       "    margin-left: 4px;\n",
       "    line-height: 19px;\n",
       "  }\n",
       "</style>\n",
       "<div class=\"ansiout\"></div>"
      ]
     },
     "metadata": {},
     "output_type": "display_data"
    }
   ],
   "source": [
    "#Storing the Pearson Correlation in a dictionary, where the key is the user Id and the value is the coefficient\n",
    "pearsonCorrelationDict = {}"
   ]
  },
  {
   "cell_type": "code",
   "execution_count": 38,
   "metadata": {},
   "outputs": [
    {
     "data": {
      "text/html": [
       "<style scoped>\n",
       "  .ansiout {\n",
       "    display: block;\n",
       "    unicode-bidi: embed;\n",
       "    white-space: pre-wrap;\n",
       "    word-wrap: break-word;\n",
       "    word-break: break-all;\n",
       "    font-family: \"Source Code Pro\", \"Menlo\", monospace;;\n",
       "    font-size: 13px;\n",
       "    color: #555;\n",
       "    margin-left: 4px;\n",
       "    line-height: 19px;\n",
       "  }\n",
       "</style>\n",
       "<div class=\"ansiout\"></div>"
      ]
     },
     "metadata": {},
     "output_type": "display_data"
    }
   ],
   "source": [
    "#For every customer group in my subset\n",
    "for name, group in userSubsetGroup:\n",
    "    #Let's start by sorting the input and current user group so the values aren't mixed up later on\n",
    "    group = group.sort_values(by='categoryId')\n",
    "    inputCategories = inputCategories.sort_values(by='categoryId')\n",
    "    #Get the N for the formula\n",
    "    nSpendings = len(group)\n",
    "    #Get the proportion of spending scores for the categories that they both have in common\n",
    "    temp_df = inputCategories[inputCategories['categoryId'].isin(group['categoryId'].tolist())]\n",
    "    #And then store them in a temporary buffer variable in a list format to facilitate future calculations\n",
    "    tempSpendingList = temp_df['proportion_spent'].tolist()\n",
    "    #Putting the current user group spendings in a list format\n",
    "    tempGroupList = group['proportion_spent'].tolist()\n",
    "    #Now let's calculate the pearson correlation between two users, so called, x and y\n",
    "    Sxx = sum([i**2 for i in tempSpendingList]) - pow(sum(tempSpendingList),2)/float(nSpendings)\n",
    "    Syy = sum([i**2 for i in tempGroupList]) - pow(sum(tempGroupList),2)/float(nSpendings)\n",
    "    Sxy = sum( i*j for i, j in zip(tempSpendingList, tempGroupList)) - sum(tempSpendingList)*sum(tempGroupList)/float(nSpendings)\n",
    "    \n",
    "    #If the denominator is different than zero, then divide, else, 0 correlation.\n",
    "    if Sxx != 0 and Syy != 0:\n",
    "        pearsonCorrelationDict[name] = Sxy/sqrt(Sxx*Syy)\n",
    "    else:\n",
    "        pearsonCorrelationDict[name] = 0"
   ]
  },
  {
   "cell_type": "code",
   "execution_count": 39,
   "metadata": {},
   "outputs": [
    {
     "data": {
      "text/html": [
       "<style scoped>\n",
       "  .ansiout {\n",
       "    display: block;\n",
       "    unicode-bidi: embed;\n",
       "    white-space: pre-wrap;\n",
       "    word-wrap: break-word;\n",
       "    word-break: break-all;\n",
       "    font-family: \"Source Code Pro\", \"Menlo\", monospace;;\n",
       "    font-size: 13px;\n",
       "    color: #555;\n",
       "    margin-left: 4px;\n",
       "    line-height: 19px;\n",
       "  }\n",
       "</style>\n",
       "<div class=\"ansiout\">Out[17]: dict_items([(&#39;01f6db41-59aa-447f-9ce0-e92e429d8941&#39;, 0.12066897780172786), (&#39;056a4d7d-1f0a-4d0b-973c-69c838a6b039&#39;, 0.4171155783514049), (&#39;05bbc0c2-4804-4469-981d-16d75c8b8a36&#39;, 0.23970706779752507), (&#39;078314c2-c4b2-456e-8f89-eb25b64b3636&#39;, 0.7920815839861506), (&#39;07eeb56f-d107-4481-8fda-511dda68ad9a&#39;, 0.6862276327214972), (&#39;0a036bcc-bc28-40e8-8199-05ba2427cfee&#39;, 0.35624616617121246), (&#39;0b56c660-2d1c-489a-b353-7942650788fa&#39;, -0.3202541442421348), (&#39;0b7c6df4-6204-44d7-b717-bcf81a1e7918&#39;, 0.508982556430031), (&#39;0cd6b8ad-9836-4b73-827e-3fc2c01ab98a&#39;, 0.08560125785033988), (&#39;0d091f07-e5fa-470f-81e6-01df080850bd&#39;, 0.3245225493370939), (&#39;0d31760b-8c6b-4aaf-af7a-9f34a34ac8a4&#39;, 0.6276264222770334), (&#39;0d9f0411-3131-4c1b-b7ae-a2c9182ba701&#39;, 0.4116496623080457), (&#39;0e34d723-a7ee-4d17-b825-0ced5011bf50&#39;, 0.34095891859078425), (&#39;101dbe0a-039f-4b60-863c-f45e30fd2034&#39;, 0.40150892107550346), (&#39;11d9b8a8-62b3-4fd9-b373-e677706b8f91&#39;, 0.17831263481922155), (&#39;126af484-628e-466a-ad19-0cc72344b814&#39;, 0.7237476272312131), (&#39;14332c39-7fa5-4635-9219-9750ae4ad676&#39;, -0.24107208263815488), (&#39;145e86e4-c866-42d9-91d5-8098aeb121a9&#39;, 0.0035297490263945983), (&#39;16bcf49b-35dc-404e-8881-2d560cfb2ce6&#39;, 0.04070339418948734), (&#39;177c2440-6c9b-40fb-89ed-8a01367d1f67&#39;, 0.18546155003429776), (&#39;17957f41-c492-4642-9f46-4665f61a4388&#39;, -0.21909853676489965), (&#39;17eae1eb-e360-424b-a054-895a2a808de4&#39;, -0.3401219183944139), (&#39;1895dc17-0989-4a4c-ae6a-2a52a4a07b34&#39;, 0.35709552144156886), (&#39;196f14ee-34a0-4d7e-966f-38ca31791366&#39;, 0.6055785340012284), (&#39;1b208a91-6f7b-4b96-a037-5db1865c7806&#39;, 0.07640977170962972), (&#39;1b98ec59-37b9-41f0-9464-5d78c91e503c&#39;, -0.3798262089225864), (&#39;1ba04445-5269-4caf-949f-48fe1a5c86f4&#39;, -0.4897321998697254), (&#39;1bb54e3d-6c50-4f6c-b904-8f3528b3d3d5&#39;, -0.06724093429948148), (&#39;1c27d6bc-c8a1-4605-aa05-e963dc3475b7&#39;, -0.2780357189016797), (&#39;1d62d98d-41f2-4729-8f81-2bebaba79826&#39;, -0.06746804735317231), (&#39;1dd9a834-ced9-4d0c-9cb8-b6b61e71625f&#39;, 0.2096015492043122), (&#39;206b81b1-d96f-4982-80a3-30364d6f79b7&#39;, 0.31317128728938837), (&#39;227714a3-e0a9-4260-8d67-fc22665b4992&#39;, 1.0), (&#39;2279342f-a872-4a1e-90f2-ca68de800b77&#39;, 0.2555137673106672), (&#39;22caa97f-b39c-4db7-b721-1e86ee560a4f&#39;, 0.18935089880628952), (&#39;22fa11c6-50e8-4603-ae71-779b8a10a231&#39;, 0.684714670252544), (&#39;22ff284b-9f29-4936-8505-a5815adece1b&#39;, 0.18987551018510476), (&#39;247c780e-7e60-499e-b51b-5e0a58bf436f&#39;, -0.2698223611724347), (&#39;24c07fe9-ec4d-4439-91b8-c8fb8e466bf8&#39;, 0.49337658203910284), (&#39;24e4dc87-a6c5-4d6b-ba5e-de722051857f&#39;, 0.6967238215957439), (&#39;27776e81-fb3e-4f6e-a299-955d13cb95a8&#39;, 0.3042395023487871), (&#39;290c834b-c26e-424d-91d5-cf6f1b935bb1&#39;, -0.39633190254611717), (&#39;2a07a952-2208-4263-a059-23f2aa00937a&#39;, -0.26347538877850735), (&#39;2adc666a-95a3-47fb-9fdb-9b75c46ef1ec&#39;, 0.06113691326278691), (&#39;2ae1ba87-6f19-43dd-a22e-e596fd4ce002&#39;, -0.23257306686460721), (&#39;2b261509-fa93-445b-ba07-85cd7b5891d7&#39;, -0.12003022128557737), (&#39;2c39e780-334c-48ea-a599-e5c756433fd8&#39;, 0.10318589801952169), (&#39;2d04d064-d16b-4cd9-96fd-b3e1c4c702b5&#39;, 0.6555990650160394), (&#39;2de9c7a4-8385-4cd2-8e5f-688067599eec&#39;, 0.47421214614645185), (&#39;2e157905-b0e0-47d2-83a7-32ba4492bac8&#39;, 0.3390602497764227), (&#39;2e37bcdd-04c7-4edf-8b90-e1a6da1f3e20&#39;, 0.5265762377102534), (&#39;2e4ff3c5-c290-45f2-96e3-105742b98693&#39;, 0.211563427050397), (&#39;2e5ae576-f5be-4c63-b133-74ae87b8b85a&#39;, 0.3237267996171344), (&#39;2ff9b1d7-7e40-416e-93f1-5e6b8864f3f6&#39;, 0.6036953341835982), (&#39;309e1685-a47d-4946-b376-bb705e10fee9&#39;, 0.10878659059406168), (&#39;31b58df6-c80e-4a89-b2bf-4dac3af82f1b&#39;, 0.6104999314248162), (&#39;346c2c0d-cf0f-41a9-941a-d029660fb807&#39;, -0.2932694657492023), (&#39;353414ac-66ff-4a1a-b4cd-c1b779fdd77a&#39;, 0.29838577573016684), (&#39;374f3d88-1e3b-47a8-be4a-7762c8ebf5db&#39;, 0.32420285065176085), (&#39;382dd849-20c2-4f27-9f12-5110cdfe4330&#39;, 0.7343472560294877), (&#39;39cb448e-bbf4-47f3-b2d0-433b1794b5e1&#39;, -0.5669240311479585), (&#39;3af5699a-80a2-43d2-ae90-e93258719e2d&#39;, 0.6385207746945272), (&#39;3afb8930-c201-4876-aa7c-d60883de0ff5&#39;, -0.5910343453900999), (&#39;3e9b7f5d-7385-4ab8-af58-4dd50805a028&#39;, 0.5993161366841264), (&#39;3fa7da1e-863b-49c4-a59f-94a4424d6fbf&#39;, -0.49989765862688823), (&#39;417e0214-0199-4f73-a9df-8136c3b2042b&#39;, -0.16215777082522256), (&#39;452ef530-ebf6-40e2-8506-1ed02be9d59f&#39;, 0.3391383089268876), (&#39;4681b54c-6a55-4b89-9053-75b4e14ed389&#39;, 0.6084857282003505), (&#39;472a3699-ffab-4975-a905-9fe97613d713&#39;, 0.6756963898428796), (&#39;473e7432-c5ad-4ebf-845b-d7eff284f41d&#39;, 0.28245683739975525), (&#39;47a58c2e-2f62-4cd8-ad8f-e703c51611a5&#39;, 0.31535735938731374), (&#39;47cd613f-7e40-467e-a724-418c7ca6fe36&#39;, 0.5686848128455486), (&#39;47e0ca01-6951-45cd-b14e-74780f93393f&#39;, 0.4171231016602003), (&#39;484e056b-f912-49b6-bc18-706686d6a0bd&#39;, 0.406231172581275), (&#39;490f4fe3-88d7-4021-9afc-270321da3819&#39;, 0.23277274020340533), (&#39;49914044-306a-4314-a0e9-366d43c41963&#39;, 0.1360070284185646), (&#39;4a244d93-41a1-4609-bbee-28f94e4c890f&#39;, 0.5678723343392823), (&#39;4af1c8cc-ed1b-4ee7-a162-fcca68a2db92&#39;, 0.08632383230451786), (&#39;4c26bc93-385c-482f-9502-15912457739a&#39;, 0.5209330001657055), (&#39;4dc48fae-bcdc-4d3e-a5a9-d81da52e26e5&#39;, -0.0005842351453040496), (&#39;51bf1adb-fd9f-43d0-955a-4c9d44a5f0aa&#39;, 0.008475317526961679), (&#39;52b4003a-980f-4090-870d-3c2f4e463773&#39;, 0.35137993706846005), (&#39;52bf17f8-bc0c-462c-b1f8-3fe31eab8717&#39;, 0.36941530672378664), (&#39;52fd144c-6bfa-451d-aad9-cab2973e643d&#39;, -0.555543314531285), (&#39;533dd851-c2f8-46e6-8c69-0c5d0fe070b5&#39;, 0.14642754514851913), (&#39;53ad4dde-482c-4c98-ae89-4a9ad11f653b&#39;, 0.003855559444517168), (&#39;53c27dbf-947b-449a-b91c-1774c189780a&#39;, 0.5320222122785243), (&#39;53d69213-c439-49cb-bd73-f33d0c9f450a&#39;, 0.05341270182377005), (&#39;5487e9bc-6066-46b5-8196-b0da097435f6&#39;, 0.350671750420511), (&#39;54c5c1ae-6c64-470e-b362-acfd37a1c90d&#39;, -0.18845158001414491), (&#39;553a4b75-7df4-40c8-a334-664b95ee0194&#39;, -0.22353229483578135), (&#39;55d7d1a5-43c2-4554-ac49-14c44d009caf&#39;, 0.15476945179060883), (&#39;568e1c6c-e34a-4090-aa2b-c9a210740480&#39;, -0.18131528882286643), (&#39;569a2766-a265-4964-9475-afc7e0ce7af6&#39;, 0.18783075512909775), (&#39;589420f7-2b9a-4cfb-b665-b1dd9e9bb408&#39;, 0.18007862978482303), (&#39;592290b8-45a1-4cd8-8eb8-7d3feb75c049&#39;, 0.6244615231466689), (&#39;59645196-d7b5-4a33-ac54-9a2148dd845c&#39;, 0.589520524732818), (&#39;5a1beadb-3be0-4bee-bf5e-4082f8a61b69&#39;, 0.6057503551756097), (&#39;5ac1d791-731f-4ed1-99e4-ba7ca4a3f93e&#39;, 0.6282361489290329), (&#39;5ae53261-0ca0-4d03-9fea-bfc4fa784667&#39;, -0.14613367830698323)])</div>"
      ]
     },
     "metadata": {},
     "output_type": "display_data"
    }
   ],
   "source": [
    "#Items of the Pearson Correlation dictionary \n",
    "pearsonCorrelationDict.items()"
   ]
  },
  {
   "cell_type": "code",
   "execution_count": 40,
   "metadata": {},
   "outputs": [
    {
     "data": {
      "text/html": [
       "<div>\n",
       "<style scoped>\n",
       "    .dataframe tbody tr th:only-of-type {\n",
       "        vertical-align: middle;\n",
       "    }\n",
       "\n",
       "    .dataframe tbody tr th {\n",
       "        vertical-align: top;\n",
       "    }\n",
       "\n",
       "    .dataframe thead th {\n",
       "        text-align: right;\n",
       "    }\n",
       "</style>\n",
       "<table border=\"1\" class=\"dataframe\">\n",
       "  <thead>\n",
       "    <tr style=\"text-align: right;\">\n",
       "      <th></th>\n",
       "      <th>similarityIndex</th>\n",
       "      <th>customer_id</th>\n",
       "    </tr>\n",
       "  </thead>\n",
       "  <tbody>\n",
       "    <tr>\n",
       "      <th>0</th>\n",
       "      <td>0.120669</td>\n",
       "      <td>01f6db41-59aa-447f-9ce0-e92e429d8941</td>\n",
       "    </tr>\n",
       "    <tr>\n",
       "      <th>1</th>\n",
       "      <td>0.417116</td>\n",
       "      <td>056a4d7d-1f0a-4d0b-973c-69c838a6b039</td>\n",
       "    </tr>\n",
       "    <tr>\n",
       "      <th>2</th>\n",
       "      <td>0.239707</td>\n",
       "      <td>05bbc0c2-4804-4469-981d-16d75c8b8a36</td>\n",
       "    </tr>\n",
       "    <tr>\n",
       "      <th>3</th>\n",
       "      <td>0.792082</td>\n",
       "      <td>078314c2-c4b2-456e-8f89-eb25b64b3636</td>\n",
       "    </tr>\n",
       "    <tr>\n",
       "      <th>4</th>\n",
       "      <td>0.686228</td>\n",
       "      <td>07eeb56f-d107-4481-8fda-511dda68ad9a</td>\n",
       "    </tr>\n",
       "  </tbody>\n",
       "</table>\n",
       "</div>"
      ]
     },
     "metadata": {},
     "output_type": "display_data"
    }
   ],
   "source": [
    "pearsonDF = pd.DataFrame.from_dict(pearsonCorrelationDict, orient='index')\n",
    "pearsonDF.columns = ['similarityIndex']\n",
    "pearsonDF['customer_id'] = pearsonDF.index\n",
    "pearsonDF.index = range(len(pearsonDF))\n",
    "pearsonDF.head() #shows 100 customers by not implementing [.head()] - specified previously: userSubsetGroup[0:100]"
   ]
  },
  {
   "cell_type": "markdown",
   "metadata": {},
   "source": [
    "The top x similar users to input user\n",
    "\n",
    "__Getting the top 50 users that are most similar to the input.__"
   ]
  },
  {
   "cell_type": "code",
   "execution_count": 42,
   "metadata": {},
   "outputs": [
    {
     "data": {
      "text/html": [
       "<div>\n",
       "<style scoped>\n",
       "    .dataframe tbody tr th:only-of-type {\n",
       "        vertical-align: middle;\n",
       "    }\n",
       "\n",
       "    .dataframe tbody tr th {\n",
       "        vertical-align: top;\n",
       "    }\n",
       "\n",
       "    .dataframe thead th {\n",
       "        text-align: right;\n",
       "    }\n",
       "</style>\n",
       "<table border=\"1\" class=\"dataframe\">\n",
       "  <thead>\n",
       "    <tr style=\"text-align: right;\">\n",
       "      <th></th>\n",
       "      <th>similarityIndex</th>\n",
       "      <th>customer_id</th>\n",
       "    </tr>\n",
       "  </thead>\n",
       "  <tbody>\n",
       "    <tr>\n",
       "      <th>32</th>\n",
       "      <td>1.000000</td>\n",
       "      <td>227714a3-e0a9-4260-8d67-fc22665b4992</td>\n",
       "    </tr>\n",
       "    <tr>\n",
       "      <th>3</th>\n",
       "      <td>0.792082</td>\n",
       "      <td>078314c2-c4b2-456e-8f89-eb25b64b3636</td>\n",
       "    </tr>\n",
       "    <tr>\n",
       "      <th>59</th>\n",
       "      <td>0.734347</td>\n",
       "      <td>382dd849-20c2-4f27-9f12-5110cdfe4330</td>\n",
       "    </tr>\n",
       "    <tr>\n",
       "      <th>15</th>\n",
       "      <td>0.723748</td>\n",
       "      <td>126af484-628e-466a-ad19-0cc72344b814</td>\n",
       "    </tr>\n",
       "    <tr>\n",
       "      <th>39</th>\n",
       "      <td>0.696724</td>\n",
       "      <td>24e4dc87-a6c5-4d6b-ba5e-de722051857f</td>\n",
       "    </tr>\n",
       "    <tr>\n",
       "      <th>4</th>\n",
       "      <td>0.686228</td>\n",
       "      <td>07eeb56f-d107-4481-8fda-511dda68ad9a</td>\n",
       "    </tr>\n",
       "    <tr>\n",
       "      <th>35</th>\n",
       "      <td>0.684715</td>\n",
       "      <td>22fa11c6-50e8-4603-ae71-779b8a10a231</td>\n",
       "    </tr>\n",
       "    <tr>\n",
       "      <th>68</th>\n",
       "      <td>0.675696</td>\n",
       "      <td>472a3699-ffab-4975-a905-9fe97613d713</td>\n",
       "    </tr>\n",
       "    <tr>\n",
       "      <th>47</th>\n",
       "      <td>0.655599</td>\n",
       "      <td>2d04d064-d16b-4cd9-96fd-b3e1c4c702b5</td>\n",
       "    </tr>\n",
       "    <tr>\n",
       "      <th>61</th>\n",
       "      <td>0.638521</td>\n",
       "      <td>3af5699a-80a2-43d2-ae90-e93258719e2d</td>\n",
       "    </tr>\n",
       "  </tbody>\n",
       "</table>\n",
       "</div>"
      ]
     },
     "metadata": {},
     "output_type": "display_data"
    }
   ],
   "source": [
    "#sorting the values: top 50 users that are most similar to the input\n",
    "\n",
    "topCustomers=pearsonDF.sort_values(by='similarityIndex', ascending=False)[0:50]\n",
    "topCustomers.head(10)"
   ]
  },
  {
   "cell_type": "markdown",
   "metadata": {},
   "source": [
    "### Let's start recommending __Categories__ to the input user."
   ]
  },
  {
   "cell_type": "markdown",
   "metadata": {},
   "source": [
    "Spending of selected customers to all categories\n",
    "\n",
    "Going to do this by taking the __weighted average of the 'Proportion Spent'__ of the categories using the Pearson Correlation as the weight. But to do this, I first need to get the _Categories_ by the customers in the ___pearsonDF___ from the _res_sys_df_ dataframe and then store their correlation in a new column called _\"similarityIndex\"_. This is achieved below by merging of these two tables."
   ]
  },
  {
   "cell_type": "code",
   "execution_count": 45,
   "metadata": {},
   "outputs": [
    {
     "data": {
      "text/html": [
       "<div>\n",
       "<style scoped>\n",
       "    .dataframe tbody tr th:only-of-type {\n",
       "        vertical-align: middle;\n",
       "    }\n",
       "\n",
       "    .dataframe tbody tr th {\n",
       "        vertical-align: top;\n",
       "    }\n",
       "\n",
       "    .dataframe thead th {\n",
       "        text-align: right;\n",
       "    }\n",
       "</style>\n",
       "<table border=\"1\" class=\"dataframe\">\n",
       "  <thead>\n",
       "    <tr style=\"text-align: right;\">\n",
       "      <th></th>\n",
       "      <th>similarityIndex</th>\n",
       "      <th>customer_id</th>\n",
       "      <th>category</th>\n",
       "      <th>categoryId</th>\n",
       "      <th>proportion_spent</th>\n",
       "    </tr>\n",
       "  </thead>\n",
       "  <tbody>\n",
       "    <tr>\n",
       "      <th>0</th>\n",
       "      <td>1.0</td>\n",
       "      <td>227714a3-e0a9-4260-8d67-fc22665b4992</td>\n",
       "      <td>Agricultural Services</td>\n",
       "      <td>0</td>\n",
       "      <td>0.084653</td>\n",
       "    </tr>\n",
       "    <tr>\n",
       "      <th>1</th>\n",
       "      <td>1.0</td>\n",
       "      <td>227714a3-e0a9-4260-8d67-fc22665b4992</td>\n",
       "      <td>Airlines</td>\n",
       "      <td>1</td>\n",
       "      <td>0.254618</td>\n",
       "    </tr>\n",
       "    <tr>\n",
       "      <th>2</th>\n",
       "      <td>1.0</td>\n",
       "      <td>227714a3-e0a9-4260-8d67-fc22665b4992</td>\n",
       "      <td>Car Rental</td>\n",
       "      <td>3</td>\n",
       "      <td>0.056004</td>\n",
       "    </tr>\n",
       "    <tr>\n",
       "      <th>3</th>\n",
       "      <td>1.0</td>\n",
       "      <td>227714a3-e0a9-4260-8d67-fc22665b4992</td>\n",
       "      <td>Clothing Stores</td>\n",
       "      <td>4</td>\n",
       "      <td>0.008657</td>\n",
       "    </tr>\n",
       "    <tr>\n",
       "      <th>4</th>\n",
       "      <td>1.0</td>\n",
       "      <td>227714a3-e0a9-4260-8d67-fc22665b4992</td>\n",
       "      <td>Lodging</td>\n",
       "      <td>5</td>\n",
       "      <td>0.079441</td>\n",
       "    </tr>\n",
       "  </tbody>\n",
       "</table>\n",
       "</div>"
      ]
     },
     "metadata": {},
     "output_type": "display_data"
    }
   ],
   "source": [
    "#Merging of these two tables - 'topCustomers' and 'rec_sys_df'\n",
    "\n",
    "topUsersSpending=topCustomers.merge(rec_sys_merge, left_on='customer_id', right_on='customer_id', how='inner')\n",
    "topUsersSpending.head()"
   ]
  },
  {
   "cell_type": "markdown",
   "metadata": {},
   "source": [
    "Now all we need to do is simply multiply the category's __proportion_spent__ by its weight ___(The similarity index)___, then sum up the new proportion_spent and divide it by the sum of the weights.\n",
    "\n",
    "This can be easily done by simply multiplying the two columns, then grouping up the dataframe by categoryId and then dividing the two columns:\n",
    "\n",
    "It shows the idea of all similar users to candidate categories for the input user:"
   ]
  },
  {
   "cell_type": "code",
   "execution_count": 47,
   "metadata": {},
   "outputs": [
    {
     "data": {
      "text/html": [
       "<div>\n",
       "<style scoped>\n",
       "    .dataframe tbody tr th:only-of-type {\n",
       "        vertical-align: middle;\n",
       "    }\n",
       "\n",
       "    .dataframe tbody tr th {\n",
       "        vertical-align: top;\n",
       "    }\n",
       "\n",
       "    .dataframe thead th {\n",
       "        text-align: right;\n",
       "    }\n",
       "</style>\n",
       "<table border=\"1\" class=\"dataframe\">\n",
       "  <thead>\n",
       "    <tr style=\"text-align: right;\">\n",
       "      <th></th>\n",
       "      <th>similarityIndex</th>\n",
       "      <th>customer_id</th>\n",
       "      <th>category</th>\n",
       "      <th>categoryId</th>\n",
       "      <th>proportion_spent</th>\n",
       "      <th>weightedRating</th>\n",
       "    </tr>\n",
       "  </thead>\n",
       "  <tbody>\n",
       "    <tr>\n",
       "      <th>0</th>\n",
       "      <td>1.0</td>\n",
       "      <td>227714a3-e0a9-4260-8d67-fc22665b4992</td>\n",
       "      <td>Agricultural Services</td>\n",
       "      <td>0</td>\n",
       "      <td>0.084653</td>\n",
       "      <td>0.084653</td>\n",
       "    </tr>\n",
       "    <tr>\n",
       "      <th>1</th>\n",
       "      <td>1.0</td>\n",
       "      <td>227714a3-e0a9-4260-8d67-fc22665b4992</td>\n",
       "      <td>Airlines</td>\n",
       "      <td>1</td>\n",
       "      <td>0.254618</td>\n",
       "      <td>0.254618</td>\n",
       "    </tr>\n",
       "    <tr>\n",
       "      <th>2</th>\n",
       "      <td>1.0</td>\n",
       "      <td>227714a3-e0a9-4260-8d67-fc22665b4992</td>\n",
       "      <td>Car Rental</td>\n",
       "      <td>3</td>\n",
       "      <td>0.056004</td>\n",
       "      <td>0.056004</td>\n",
       "    </tr>\n",
       "    <tr>\n",
       "      <th>3</th>\n",
       "      <td>1.0</td>\n",
       "      <td>227714a3-e0a9-4260-8d67-fc22665b4992</td>\n",
       "      <td>Clothing Stores</td>\n",
       "      <td>4</td>\n",
       "      <td>0.008657</td>\n",
       "      <td>0.008657</td>\n",
       "    </tr>\n",
       "    <tr>\n",
       "      <th>4</th>\n",
       "      <td>1.0</td>\n",
       "      <td>227714a3-e0a9-4260-8d67-fc22665b4992</td>\n",
       "      <td>Lodging</td>\n",
       "      <td>5</td>\n",
       "      <td>0.079441</td>\n",
       "      <td>0.079441</td>\n",
       "    </tr>\n",
       "  </tbody>\n",
       "</table>\n",
       "</div>"
      ]
     },
     "metadata": {},
     "output_type": "display_data"
    }
   ],
   "source": [
    "#Multiplies the similarity by the customer's proportion_spent (per master category)\n",
    "\n",
    "topUsersSpending['weightedRating'] = topUsersSpending['similarityIndex']*topUsersSpending['proportion_spent']\n",
    "topUsersSpending.head()"
   ]
  },
  {
   "cell_type": "code",
   "execution_count": 48,
   "metadata": {},
   "outputs": [
    {
     "data": {
      "text/html": [
       "<div>\n",
       "<style scoped>\n",
       "    .dataframe tbody tr th:only-of-type {\n",
       "        vertical-align: middle;\n",
       "    }\n",
       "\n",
       "    .dataframe tbody tr th {\n",
       "        vertical-align: top;\n",
       "    }\n",
       "\n",
       "    .dataframe thead th {\n",
       "        text-align: right;\n",
       "    }\n",
       "</style>\n",
       "<table border=\"1\" class=\"dataframe\">\n",
       "  <thead>\n",
       "    <tr style=\"text-align: right;\">\n",
       "      <th></th>\n",
       "      <th>sum_similarityIndex</th>\n",
       "      <th>sum_weightedSpending</th>\n",
       "    </tr>\n",
       "    <tr>\n",
       "      <th>categoryId</th>\n",
       "      <th></th>\n",
       "      <th></th>\n",
       "    </tr>\n",
       "  </thead>\n",
       "  <tbody>\n",
       "    <tr>\n",
       "      <th>0</th>\n",
       "      <td>25.182661</td>\n",
       "      <td>0.988944</td>\n",
       "    </tr>\n",
       "    <tr>\n",
       "      <th>1</th>\n",
       "      <td>25.182661</td>\n",
       "      <td>4.306143</td>\n",
       "    </tr>\n",
       "    <tr>\n",
       "      <th>2</th>\n",
       "      <td>6.124331</td>\n",
       "      <td>0.332814</td>\n",
       "    </tr>\n",
       "    <tr>\n",
       "      <th>3</th>\n",
       "      <td>25.182661</td>\n",
       "      <td>1.252989</td>\n",
       "    </tr>\n",
       "    <tr>\n",
       "      <th>4</th>\n",
       "      <td>25.182661</td>\n",
       "      <td>1.378608</td>\n",
       "    </tr>\n",
       "  </tbody>\n",
       "</table>\n",
       "</div>"
      ]
     },
     "metadata": {},
     "output_type": "display_data"
    }
   ],
   "source": [
    "#Applies a sum to the topCustomers after grouping it up by customer_id\n",
    "\n",
    "tempTopUsersSpending = topUsersSpending.groupby('categoryId').sum()[['similarityIndex','weightedRating']]\n",
    "tempTopUsersSpending.columns = ['sum_similarityIndex','sum_weightedSpending']\n",
    "tempTopUsersSpending.head()"
   ]
  },
  {
   "cell_type": "code",
   "execution_count": 49,
   "metadata": {},
   "outputs": [
    {
     "data": {
      "text/html": [
       "<div>\n",
       "<style scoped>\n",
       "    .dataframe tbody tr th:only-of-type {\n",
       "        vertical-align: middle;\n",
       "    }\n",
       "\n",
       "    .dataframe tbody tr th {\n",
       "        vertical-align: top;\n",
       "    }\n",
       "\n",
       "    .dataframe thead th {\n",
       "        text-align: right;\n",
       "    }\n",
       "</style>\n",
       "<table border=\"1\" class=\"dataframe\">\n",
       "  <thead>\n",
       "    <tr style=\"text-align: right;\">\n",
       "      <th></th>\n",
       "      <th>weighted average recommendation score</th>\n",
       "      <th>categoryId</th>\n",
       "    </tr>\n",
       "    <tr>\n",
       "      <th>categoryId</th>\n",
       "      <th></th>\n",
       "      <th></th>\n",
       "    </tr>\n",
       "  </thead>\n",
       "  <tbody>\n",
       "    <tr>\n",
       "      <th>0</th>\n",
       "      <td>0.039271</td>\n",
       "      <td>0</td>\n",
       "    </tr>\n",
       "    <tr>\n",
       "      <th>1</th>\n",
       "      <td>0.170996</td>\n",
       "      <td>1</td>\n",
       "    </tr>\n",
       "    <tr>\n",
       "      <th>2</th>\n",
       "      <td>0.054343</td>\n",
       "      <td>2</td>\n",
       "    </tr>\n",
       "    <tr>\n",
       "      <th>3</th>\n",
       "      <td>0.049756</td>\n",
       "      <td>3</td>\n",
       "    </tr>\n",
       "    <tr>\n",
       "      <th>4</th>\n",
       "      <td>0.054744</td>\n",
       "      <td>4</td>\n",
       "    </tr>\n",
       "  </tbody>\n",
       "</table>\n",
       "</div>"
      ]
     },
     "metadata": {},
     "output_type": "display_data"
    }
   ],
   "source": [
    "#Creates an empty dataframe\n",
    "recommendation_df = pd.DataFrame()\n",
    "\n",
    "#Now we take the weighted average\n",
    "recommendation_df['weighted average recommendation score'] = tempTopUsersSpending['sum_weightedSpending']/tempTopUsersSpending['sum_similarityIndex']\n",
    "recommendation_df['categoryId'] = tempTopUsersSpending.index\n",
    "recommendation_df.head()"
   ]
  },
  {
   "cell_type": "markdown",
   "metadata": {},
   "source": [
    "Now let's sort it and see the top 5 categories that the algorithm recommended!"
   ]
  },
  {
   "cell_type": "code",
   "execution_count": 51,
   "metadata": {},
   "outputs": [
    {
     "data": {
      "text/html": [
       "<div>\n",
       "<style scoped>\n",
       "    .dataframe tbody tr th:only-of-type {\n",
       "        vertical-align: middle;\n",
       "    }\n",
       "\n",
       "    .dataframe tbody tr th {\n",
       "        vertical-align: top;\n",
       "    }\n",
       "\n",
       "    .dataframe thead th {\n",
       "        text-align: right;\n",
       "    }\n",
       "</style>\n",
       "<table border=\"1\" class=\"dataframe\">\n",
       "  <thead>\n",
       "    <tr style=\"text-align: right;\">\n",
       "      <th></th>\n",
       "      <th>weighted average recommendation score</th>\n",
       "      <th>categoryId</th>\n",
       "    </tr>\n",
       "    <tr>\n",
       "      <th>categoryId</th>\n",
       "      <th></th>\n",
       "      <th></th>\n",
       "    </tr>\n",
       "  </thead>\n",
       "  <tbody>\n",
       "    <tr>\n",
       "      <th>6</th>\n",
       "      <td>0.394963</td>\n",
       "      <td>6</td>\n",
       "    </tr>\n",
       "    <tr>\n",
       "      <th>1</th>\n",
       "      <td>0.170996</td>\n",
       "      <td>1</td>\n",
       "    </tr>\n",
       "    <tr>\n",
       "      <th>7</th>\n",
       "      <td>0.144820</td>\n",
       "      <td>7</td>\n",
       "    </tr>\n",
       "    <tr>\n",
       "      <th>5</th>\n",
       "      <td>0.132234</td>\n",
       "      <td>5</td>\n",
       "    </tr>\n",
       "    <tr>\n",
       "      <th>4</th>\n",
       "      <td>0.054744</td>\n",
       "      <td>4</td>\n",
       "    </tr>\n",
       "  </tbody>\n",
       "</table>\n",
       "</div>"
      ]
     },
     "metadata": {},
     "output_type": "display_data"
    }
   ],
   "source": [
    "#let's sort it and see the top 5 categories that the algorithm recommended\n",
    "\n",
    "recommendation_df = recommendation_df.sort_values(by='weighted average recommendation score', ascending=False)\n",
    "recommendation_df.head()"
   ]
  },
  {
   "cell_type": "code",
   "execution_count": 52,
   "metadata": {},
   "outputs": [
    {
     "data": {
      "text/html": [
       "<div>\n",
       "<style scoped>\n",
       "    .dataframe tbody tr th:only-of-type {\n",
       "        vertical-align: middle;\n",
       "    }\n",
       "\n",
       "    .dataframe tbody tr th {\n",
       "        vertical-align: top;\n",
       "    }\n",
       "\n",
       "    .dataframe thead th {\n",
       "        text-align: right;\n",
       "    }\n",
       "</style>\n",
       "<table border=\"1\" class=\"dataframe\">\n",
       "  <thead>\n",
       "    <tr style=\"text-align: right;\">\n",
       "      <th></th>\n",
       "      <th>customer_id</th>\n",
       "      <th>category</th>\n",
       "      <th>categoryId</th>\n",
       "      <th>proportion_spent</th>\n",
       "    </tr>\n",
       "  </thead>\n",
       "  <tbody>\n",
       "    <tr>\n",
       "      <th>1</th>\n",
       "      <td>00015fc4-6fdc-4120-be42-a49e8bbe8cce</td>\n",
       "      <td>Miscellaneous Stores</td>\n",
       "      <td>6</td>\n",
       "      <td>0.738900</td>\n",
       "    </tr>\n",
       "    <tr>\n",
       "      <th>3</th>\n",
       "      <td>000c0667-af47-4229-acec-8b98590d1752</td>\n",
       "      <td>Airlines</td>\n",
       "      <td>1</td>\n",
       "      <td>0.024776</td>\n",
       "    </tr>\n",
       "    <tr>\n",
       "      <th>5</th>\n",
       "      <td>000c0667-af47-4229-acec-8b98590d1752</td>\n",
       "      <td>Retail Outlet Services</td>\n",
       "      <td>7</td>\n",
       "      <td>0.939131</td>\n",
       "    </tr>\n",
       "    <tr>\n",
       "      <th>8</th>\n",
       "      <td>0016ee8d-e2d6-4dd9-9559-3be13e9f53b5</td>\n",
       "      <td>Miscellaneous Stores</td>\n",
       "      <td>6</td>\n",
       "      <td>0.031360</td>\n",
       "    </tr>\n",
       "    <tr>\n",
       "      <th>9</th>\n",
       "      <td>0016ee8d-e2d6-4dd9-9559-3be13e9f53b5</td>\n",
       "      <td>Retail Outlet Services</td>\n",
       "      <td>7</td>\n",
       "      <td>0.005345</td>\n",
       "    </tr>\n",
       "    <tr>\n",
       "      <th>11</th>\n",
       "      <td>0019acea-38df-4de4-8b01-3b6dcf048f45</td>\n",
       "      <td>Airlines</td>\n",
       "      <td>1</td>\n",
       "      <td>0.155789</td>\n",
       "    </tr>\n",
       "    <tr>\n",
       "      <th>13</th>\n",
       "      <td>0019acea-38df-4de4-8b01-3b6dcf048f45</td>\n",
       "      <td>Lodging</td>\n",
       "      <td>5</td>\n",
       "      <td>0.482654</td>\n",
       "    </tr>\n",
       "    <tr>\n",
       "      <th>14</th>\n",
       "      <td>0019acea-38df-4de4-8b01-3b6dcf048f45</td>\n",
       "      <td>Miscellaneous Stores</td>\n",
       "      <td>6</td>\n",
       "      <td>0.222644</td>\n",
       "    </tr>\n",
       "    <tr>\n",
       "      <th>16</th>\n",
       "      <td>002009ca-739b-48a6-a040-5d46b0ab402e</td>\n",
       "      <td>Miscellaneous Stores</td>\n",
       "      <td>6</td>\n",
       "      <td>0.282747</td>\n",
       "    </tr>\n",
       "    <tr>\n",
       "      <th>17</th>\n",
       "      <td>002009ca-739b-48a6-a040-5d46b0ab402e</td>\n",
       "      <td>Retail Outlet Services</td>\n",
       "      <td>7</td>\n",
       "      <td>0.658060</td>\n",
       "    </tr>\n",
       "    <tr>\n",
       "      <th>19</th>\n",
       "      <td>0023c164-f35c-4f67-b706-d6954c0e816c</td>\n",
       "      <td>Clothing Stores</td>\n",
       "      <td>4</td>\n",
       "      <td>0.240758</td>\n",
       "    </tr>\n",
       "    <tr>\n",
       "      <th>20</th>\n",
       "      <td>0023c164-f35c-4f67-b706-d6954c0e816c</td>\n",
       "      <td>Miscellaneous Stores</td>\n",
       "      <td>6</td>\n",
       "      <td>0.569127</td>\n",
       "    </tr>\n",
       "    <tr>\n",
       "      <th>21</th>\n",
       "      <td>0023c164-f35c-4f67-b706-d6954c0e816c</td>\n",
       "      <td>Retail Outlet Services</td>\n",
       "      <td>7</td>\n",
       "      <td>0.041223</td>\n",
       "    </tr>\n",
       "    <tr>\n",
       "      <th>24</th>\n",
       "      <td>002b0186-9b02-48ac-823e-44d66cc7684a</td>\n",
       "      <td>Clothing Stores</td>\n",
       "      <td>4</td>\n",
       "      <td>0.092274</td>\n",
       "    </tr>\n",
       "    <tr>\n",
       "      <th>25</th>\n",
       "      <td>002b0186-9b02-48ac-823e-44d66cc7684a</td>\n",
       "      <td>Miscellaneous Stores</td>\n",
       "      <td>6</td>\n",
       "      <td>0.753367</td>\n",
       "    </tr>\n",
       "    <tr>\n",
       "      <th>26</th>\n",
       "      <td>002b0186-9b02-48ac-823e-44d66cc7684a</td>\n",
       "      <td>Retail Outlet Services</td>\n",
       "      <td>7</td>\n",
       "      <td>0.043211</td>\n",
       "    </tr>\n",
       "    <tr>\n",
       "      <th>28</th>\n",
       "      <td>002e4a53-c1b2-44cc-ac76-5823680d1ef1</td>\n",
       "      <td>Miscellaneous Stores</td>\n",
       "      <td>6</td>\n",
       "      <td>0.718990</td>\n",
       "    </tr>\n",
       "    <tr>\n",
       "      <th>30</th>\n",
       "      <td>002f7e0a-88ae-4f8a-9652-def868f13d2b</td>\n",
       "      <td>Retail Outlet Services</td>\n",
       "      <td>7</td>\n",
       "      <td>0.957778</td>\n",
       "    </tr>\n",
       "    <tr>\n",
       "      <th>32</th>\n",
       "      <td>003b5cc7-0396-4597-8e9e-f947a05ee456</td>\n",
       "      <td>Miscellaneous Stores</td>\n",
       "      <td>6</td>\n",
       "      <td>0.997986</td>\n",
       "    </tr>\n",
       "    <tr>\n",
       "      <th>33</th>\n",
       "      <td>00422e31-ede3-4e03-a708-86f302960586</td>\n",
       "      <td>Miscellaneous Stores</td>\n",
       "      <td>6</td>\n",
       "      <td>1.000000</td>\n",
       "    </tr>\n",
       "    <tr>\n",
       "      <th>35</th>\n",
       "      <td>004313c0-9852-404e-bfea-9c6bfaca6ae1</td>\n",
       "      <td>Miscellaneous Stores</td>\n",
       "      <td>6</td>\n",
       "      <td>0.348308</td>\n",
       "    </tr>\n",
       "    <tr>\n",
       "      <th>36</th>\n",
       "      <td>004313c0-9852-404e-bfea-9c6bfaca6ae1</td>\n",
       "      <td>Retail Outlet Services</td>\n",
       "      <td>7</td>\n",
       "      <td>0.471012</td>\n",
       "    </tr>\n",
       "    <tr>\n",
       "      <th>38</th>\n",
       "      <td>004c0735-dfbd-49ae-81d5-1bada493ed30</td>\n",
       "      <td>Clothing Stores</td>\n",
       "      <td>4</td>\n",
       "      <td>0.976992</td>\n",
       "    </tr>\n",
       "    <tr>\n",
       "      <th>40</th>\n",
       "      <td>00506374-8533-43e6-ae1d-e0caca47fa74</td>\n",
       "      <td>Clothing Stores</td>\n",
       "      <td>4</td>\n",
       "      <td>0.917832</td>\n",
       "    </tr>\n",
       "    <tr>\n",
       "      <th>41</th>\n",
       "      <td>0058df44-5c06-49f7-9801-e226381e9f62</td>\n",
       "      <td>Airlines</td>\n",
       "      <td>1</td>\n",
       "      <td>0.404387</td>\n",
       "    </tr>\n",
       "    <tr>\n",
       "      <th>43</th>\n",
       "      <td>0058df44-5c06-49f7-9801-e226381e9f62</td>\n",
       "      <td>Lodging</td>\n",
       "      <td>5</td>\n",
       "      <td>0.378482</td>\n",
       "    </tr>\n",
       "    <tr>\n",
       "      <th>45</th>\n",
       "      <td>006857cc-f912-4ea7-aa1b-c99b64388ef6</td>\n",
       "      <td>Clothing Stores</td>\n",
       "      <td>4</td>\n",
       "      <td>0.558647</td>\n",
       "    </tr>\n",
       "    <tr>\n",
       "      <th>46</th>\n",
       "      <td>006857cc-f912-4ea7-aa1b-c99b64388ef6</td>\n",
       "      <td>Miscellaneous Stores</td>\n",
       "      <td>6</td>\n",
       "      <td>0.252874</td>\n",
       "    </tr>\n",
       "    <tr>\n",
       "      <th>47</th>\n",
       "      <td>006857cc-f912-4ea7-aa1b-c99b64388ef6</td>\n",
       "      <td>Retail Outlet Services</td>\n",
       "      <td>7</td>\n",
       "      <td>0.030940</td>\n",
       "    </tr>\n",
       "    <tr>\n",
       "      <th>49</th>\n",
       "      <td>0076200a-3351-471b-ba7f-8267d5c888ac</td>\n",
       "      <td>Clothing Stores</td>\n",
       "      <td>4</td>\n",
       "      <td>0.924830</td>\n",
       "    </tr>\n",
       "    <tr>\n",
       "      <th>...</th>\n",
       "      <td>...</td>\n",
       "      <td>...</td>\n",
       "      <td>...</td>\n",
       "      <td>...</td>\n",
       "    </tr>\n",
       "    <tr>\n",
       "      <th>32221</th>\n",
       "      <td>ff57b1ed-2b14-48f5-ba94-5d59db9e35fc</td>\n",
       "      <td>Miscellaneous Stores</td>\n",
       "      <td>6</td>\n",
       "      <td>0.003261</td>\n",
       "    </tr>\n",
       "    <tr>\n",
       "      <th>32224</th>\n",
       "      <td>ff66dc74-953e-48f1-9bc6-1799658fa690</td>\n",
       "      <td>Miscellaneous Stores</td>\n",
       "      <td>6</td>\n",
       "      <td>0.470625</td>\n",
       "    </tr>\n",
       "    <tr>\n",
       "      <th>32225</th>\n",
       "      <td>ff66dc74-953e-48f1-9bc6-1799658fa690</td>\n",
       "      <td>Retail Outlet Services</td>\n",
       "      <td>7</td>\n",
       "      <td>0.090632</td>\n",
       "    </tr>\n",
       "    <tr>\n",
       "      <th>32226</th>\n",
       "      <td>ff6949f9-aaf6-4d23-8df5-3142453b7aab</td>\n",
       "      <td>Airlines</td>\n",
       "      <td>1</td>\n",
       "      <td>0.217593</td>\n",
       "    </tr>\n",
       "    <tr>\n",
       "      <th>32228</th>\n",
       "      <td>ff6949f9-aaf6-4d23-8df5-3142453b7aab</td>\n",
       "      <td>Lodging</td>\n",
       "      <td>5</td>\n",
       "      <td>0.617788</td>\n",
       "    </tr>\n",
       "    <tr>\n",
       "      <th>32230</th>\n",
       "      <td>ff700ca6-30db-4333-9d54-9e555ad7296e</td>\n",
       "      <td>Miscellaneous Stores</td>\n",
       "      <td>6</td>\n",
       "      <td>0.231094</td>\n",
       "    </tr>\n",
       "    <tr>\n",
       "      <th>32231</th>\n",
       "      <td>ff700ca6-30db-4333-9d54-9e555ad7296e</td>\n",
       "      <td>Retail Outlet Services</td>\n",
       "      <td>7</td>\n",
       "      <td>0.704136</td>\n",
       "    </tr>\n",
       "    <tr>\n",
       "      <th>32232</th>\n",
       "      <td>ff726742-fa40-45b0-b03e-f6704ce187d2</td>\n",
       "      <td>Clothing Stores</td>\n",
       "      <td>4</td>\n",
       "      <td>1.000000</td>\n",
       "    </tr>\n",
       "    <tr>\n",
       "      <th>32234</th>\n",
       "      <td>ff7d46e7-c98c-4e42-beed-f3516bf413d8</td>\n",
       "      <td>Miscellaneous Stores</td>\n",
       "      <td>6</td>\n",
       "      <td>0.944929</td>\n",
       "    </tr>\n",
       "    <tr>\n",
       "      <th>32236</th>\n",
       "      <td>ff85e1b8-694c-4297-a858-c168fc19e582</td>\n",
       "      <td>Retail Outlet Services</td>\n",
       "      <td>7</td>\n",
       "      <td>0.973807</td>\n",
       "    </tr>\n",
       "    <tr>\n",
       "      <th>32239</th>\n",
       "      <td>ff9de251-ec5a-416b-9606-37387215e50c</td>\n",
       "      <td>Miscellaneous Stores</td>\n",
       "      <td>6</td>\n",
       "      <td>0.517318</td>\n",
       "    </tr>\n",
       "    <tr>\n",
       "      <th>32240</th>\n",
       "      <td>ff9de251-ec5a-416b-9606-37387215e50c</td>\n",
       "      <td>Retail Outlet Services</td>\n",
       "      <td>7</td>\n",
       "      <td>0.178623</td>\n",
       "    </tr>\n",
       "    <tr>\n",
       "      <th>32243</th>\n",
       "      <td>ffa9c8f9-dda6-4352-9290-08433086dfb5</td>\n",
       "      <td>Miscellaneous Stores</td>\n",
       "      <td>6</td>\n",
       "      <td>0.531037</td>\n",
       "    </tr>\n",
       "    <tr>\n",
       "      <th>32244</th>\n",
       "      <td>ffa9c8f9-dda6-4352-9290-08433086dfb5</td>\n",
       "      <td>Retail Outlet Services</td>\n",
       "      <td>7</td>\n",
       "      <td>0.426963</td>\n",
       "    </tr>\n",
       "    <tr>\n",
       "      <th>32245</th>\n",
       "      <td>ffba677c-3163-4996-9085-94b1502e9f3f</td>\n",
       "      <td>Clothing Stores</td>\n",
       "      <td>4</td>\n",
       "      <td>0.062818</td>\n",
       "    </tr>\n",
       "    <tr>\n",
       "      <th>32246</th>\n",
       "      <td>ffba677c-3163-4996-9085-94b1502e9f3f</td>\n",
       "      <td>Miscellaneous Stores</td>\n",
       "      <td>6</td>\n",
       "      <td>0.937182</td>\n",
       "    </tr>\n",
       "    <tr>\n",
       "      <th>32248</th>\n",
       "      <td>ffc98289-223b-4534-97ff-fa3b377e3b6a</td>\n",
       "      <td>Clothing Stores</td>\n",
       "      <td>4</td>\n",
       "      <td>0.078108</td>\n",
       "    </tr>\n",
       "    <tr>\n",
       "      <th>32249</th>\n",
       "      <td>ffc98289-223b-4534-97ff-fa3b377e3b6a</td>\n",
       "      <td>Miscellaneous Stores</td>\n",
       "      <td>6</td>\n",
       "      <td>0.336611</td>\n",
       "    </tr>\n",
       "    <tr>\n",
       "      <th>32250</th>\n",
       "      <td>ffc98289-223b-4534-97ff-fa3b377e3b6a</td>\n",
       "      <td>Retail Outlet Services</td>\n",
       "      <td>7</td>\n",
       "      <td>0.398463</td>\n",
       "    </tr>\n",
       "    <tr>\n",
       "      <th>32251</th>\n",
       "      <td>ffcae25b-ed4d-4237-91f4-c970fba7a551</td>\n",
       "      <td>Airlines</td>\n",
       "      <td>1</td>\n",
       "      <td>0.410300</td>\n",
       "    </tr>\n",
       "    <tr>\n",
       "      <th>32253</th>\n",
       "      <td>ffcae25b-ed4d-4237-91f4-c970fba7a551</td>\n",
       "      <td>Lodging</td>\n",
       "      <td>5</td>\n",
       "      <td>0.338782</td>\n",
       "    </tr>\n",
       "    <tr>\n",
       "      <th>32254</th>\n",
       "      <td>ffcae25b-ed4d-4237-91f4-c970fba7a551</td>\n",
       "      <td>Miscellaneous Stores</td>\n",
       "      <td>6</td>\n",
       "      <td>0.059114</td>\n",
       "    </tr>\n",
       "    <tr>\n",
       "      <th>32256</th>\n",
       "      <td>ffcebaf9-82e2-493d-8be6-dc18fe6fb9e5</td>\n",
       "      <td>Clothing Stores</td>\n",
       "      <td>4</td>\n",
       "      <td>0.122675</td>\n",
       "    </tr>\n",
       "    <tr>\n",
       "      <th>32257</th>\n",
       "      <td>ffcebaf9-82e2-493d-8be6-dc18fe6fb9e5</td>\n",
       "      <td>Retail Outlet Services</td>\n",
       "      <td>7</td>\n",
       "      <td>0.805486</td>\n",
       "    </tr>\n",
       "    <tr>\n",
       "      <th>32259</th>\n",
       "      <td>ffd6540c-b5e3-4cb5-872b-52487145cb3f</td>\n",
       "      <td>Airlines</td>\n",
       "      <td>1</td>\n",
       "      <td>0.439753</td>\n",
       "    </tr>\n",
       "    <tr>\n",
       "      <th>32261</th>\n",
       "      <td>ffd6540c-b5e3-4cb5-872b-52487145cb3f</td>\n",
       "      <td>Lodging</td>\n",
       "      <td>5</td>\n",
       "      <td>0.233115</td>\n",
       "    </tr>\n",
       "    <tr>\n",
       "      <th>32262</th>\n",
       "      <td>ffd6540c-b5e3-4cb5-872b-52487145cb3f</td>\n",
       "      <td>Miscellaneous Stores</td>\n",
       "      <td>6</td>\n",
       "      <td>0.184253</td>\n",
       "    </tr>\n",
       "    <tr>\n",
       "      <th>32264</th>\n",
       "      <td>ffdbb2b8-6152-4498-912b-b6e8cb722222</td>\n",
       "      <td>Airlines</td>\n",
       "      <td>1</td>\n",
       "      <td>0.163728</td>\n",
       "    </tr>\n",
       "    <tr>\n",
       "      <th>32266</th>\n",
       "      <td>ffdbb2b8-6152-4498-912b-b6e8cb722222</td>\n",
       "      <td>Lodging</td>\n",
       "      <td>5</td>\n",
       "      <td>0.551346</td>\n",
       "    </tr>\n",
       "    <tr>\n",
       "      <th>32267</th>\n",
       "      <td>ffdbb2b8-6152-4498-912b-b6e8cb722222</td>\n",
       "      <td>Retail Outlet Services</td>\n",
       "      <td>7</td>\n",
       "      <td>0.147470</td>\n",
       "    </tr>\n",
       "  </tbody>\n",
       "</table>\n",
       "<p>20139 rows × 4 columns</p>\n",
       "</div>"
      ]
     },
     "metadata": {},
     "output_type": "display_data"
    }
   ],
   "source": [
    "rec_sys_merge.loc[rec_sys_merge['categoryId'].isin(recommendation_df.head()['categoryId'].tolist())]"
   ]
  },
  {
   "cell_type": "markdown",
   "metadata": {},
   "source": [
    "# Evaluation"
   ]
  },
  {
   "cell_type": "markdown",
   "metadata": {},
   "source": [
    "To load a dataset from a pandas dataframe, I will need the load_from_df() method. I will also need a Reader object. The dataframe must have three columns, corresponding to the user/customer (raw) ids, the category (raw) ids, and the proportion_spent in this order."
   ]
  },
  {
   "cell_type": "code",
   "execution_count": 55,
   "metadata": {},
   "outputs": [
    {
     "data": {
      "text/html": [
       "<style scoped>\n",
       "  .ansiout {\n",
       "    display: block;\n",
       "    unicode-bidi: embed;\n",
       "    white-space: pre-wrap;\n",
       "    word-wrap: break-word;\n",
       "    word-break: break-all;\n",
       "    font-family: \"Source Code Pro\", \"Menlo\", monospace;;\n",
       "    font-size: 13px;\n",
       "    color: #555;\n",
       "    margin-left: 4px;\n",
       "    line-height: 19px;\n",
       "  }\n",
       "</style>\n",
       "<div class=\"ansiout\"></div>"
      ]
     },
     "metadata": {},
     "output_type": "display_data"
    }
   ],
   "source": [
    "#import reader and dataset from surprise\n",
    "\n",
    "from surprise import Reader, Dataset\n",
    "reader = Reader()\n",
    "data = Dataset.load_from_df(rec_sys_merge[['customer_id', 'categoryId', 'proportion_spent']], reader)"
   ]
  },
  {
   "cell_type": "markdown",
   "metadata": {},
   "source": [
    "The next step is splitting our dataset in train and test set in a ratio of 75%:25%"
   ]
  },
  {
   "cell_type": "code",
   "execution_count": 57,
   "metadata": {},
   "outputs": [
    {
     "data": {
      "text/html": [
       "<style scoped>\n",
       "  .ansiout {\n",
       "    display: block;\n",
       "    unicode-bidi: embed;\n",
       "    white-space: pre-wrap;\n",
       "    word-wrap: break-word;\n",
       "    word-break: break-all;\n",
       "    font-family: \"Source Code Pro\", \"Menlo\", monospace;;\n",
       "    font-size: 13px;\n",
       "    color: #555;\n",
       "    margin-left: 4px;\n",
       "    line-height: 19px;\n",
       "  }\n",
       "</style>\n",
       "<div class=\"ansiout\"></div>"
      ]
     },
     "metadata": {},
     "output_type": "display_data"
    }
   ],
   "source": [
    "#Train and test split\n",
    "\n",
    "from surprise.model_selection import train_test_split\n",
    "\n",
    "trainset, testset = train_test_split(data, test_size=0.25)"
   ]
  },
  {
   "cell_type": "markdown",
   "metadata": {},
   "source": [
    "I’ll be using the famous SVD algorithm, as popularized by Simon Funk during the Netflix Prize. SVD is a Matrix Factorization techniques are usually more effective because they allow us to discover the latent features underlying the interactions between users and items."
   ]
  },
  {
   "cell_type": "code",
   "execution_count": 59,
   "metadata": {},
   "outputs": [
    {
     "data": {
      "text/html": [
       "<style scoped>\n",
       "  .ansiout {\n",
       "    display: block;\n",
       "    unicode-bidi: embed;\n",
       "    white-space: pre-wrap;\n",
       "    word-wrap: break-word;\n",
       "    word-break: break-all;\n",
       "    font-family: \"Source Code Pro\", \"Menlo\", monospace;;\n",
       "    font-size: 13px;\n",
       "    color: #555;\n",
       "    margin-left: 4px;\n",
       "    line-height: 19px;\n",
       "  }\n",
       "</style>\n",
       "<div class=\"ansiout\">Out[35]: &lt;surprise.prediction_algorithms.matrix_factorization.SVD at 0x7fa480b7f940&gt;</div>"
      ]
     },
     "metadata": {},
     "output_type": "display_data"
    }
   ],
   "source": [
    "#Train the model - SVD algorithm (1 OR GENERAL) \n",
    "\n",
    "from surprise import SVD, accuracy\n",
    "algo_SVD = SVD()\n",
    "algo_SVD.fit(trainset)"
   ]
  },
  {
   "cell_type": "code",
   "execution_count": 60,
   "metadata": {},
   "outputs": [
    {
     "data": {
      "text/html": [
       "<style scoped>\n",
       "  .ansiout {\n",
       "    display: block;\n",
       "    unicode-bidi: embed;\n",
       "    white-space: pre-wrap;\n",
       "    word-wrap: break-word;\n",
       "    word-break: break-all;\n",
       "    font-family: \"Source Code Pro\", \"Menlo\", monospace;;\n",
       "    font-size: 13px;\n",
       "    color: #555;\n",
       "    margin-left: 4px;\n",
       "    line-height: 19px;\n",
       "  }\n",
       "</style>\n",
       "<div class=\"ansiout\">Out[36]: [Prediction(uid=&#39;c737dac8-78be-494f-8503-77ac1f7678eb&#39;, iid=6, r_ui=0.9388327530097176, est=1, details={&#39;was_impossible&#39;: False}),\n",
       " Prediction(uid=&#39;faab0b8d-c556-4ad3-8474-a507f84a000a&#39;, iid=2, r_ui=1.0, est=1, details={&#39;was_impossible&#39;: False}),\n",
       " Prediction(uid=&#39;cb62e1a4-00cc-4080-8f13-7f4ef143019b&#39;, iid=0, r_ui=0.1592998390688036, est=1, details={&#39;was_impossible&#39;: False}),\n",
       " Prediction(uid=&#39;3472f2f1-bd20-46a0-ba15-2bd1fb5760c2&#39;, iid=1, r_ui=0.11251508104037668, est=1, details={&#39;was_impossible&#39;: False}),\n",
       " Prediction(uid=&#39;0183c424-98ff-46d4-8ad1-2f58c596fb08&#39;, iid=5, r_ui=0.2209930554217177, est=1, details={&#39;was_impossible&#39;: False})]</div>"
      ]
     },
     "metadata": {},
     "output_type": "display_data"
    }
   ],
   "source": [
    "#Predictions on the test set (1)\n",
    "predictions = algo_SVD.test(testset)\n",
    "predictions[0:5]"
   ]
  },
  {
   "cell_type": "markdown",
   "metadata": {},
   "source": [
    "###Evaluation RMSE\n",
    "\n",
    "Singular vector decomposition (SVD) shown here employs the use of gradient descent to minimize the squared error between predicted rating and actual rating, eventually getting the best model."
   ]
  },
  {
   "cell_type": "code",
   "execution_count": 62,
   "metadata": {},
   "outputs": [
    {
     "data": {
      "text/html": [
       "<style scoped>\n",
       "  .ansiout {\n",
       "    display: block;\n",
       "    unicode-bidi: embed;\n",
       "    white-space: pre-wrap;\n",
       "    word-wrap: break-word;\n",
       "    word-break: break-all;\n",
       "    font-family: \"Source Code Pro\", \"Menlo\", monospace;;\n",
       "    font-size: 13px;\n",
       "    color: #555;\n",
       "    margin-left: 4px;\n",
       "    line-height: 19px;\n",
       "  }\n",
       "</style>\n",
       "<div class=\"ansiout\">RMSE: 0.7792\n",
       "Out[38]: 0.7792344021538272</div>"
      ]
     },
     "metadata": {},
     "output_type": "display_data"
    }
   ],
   "source": [
    "#accuracy, using RMSE\n",
    "\n",
    "from surprise import accuracy\n",
    "accuracy.rmse(predictions)"
   ]
  },
  {
   "cell_type": "code",
   "execution_count": 63,
   "metadata": {},
   "outputs": [
    {
     "data": {
      "text/html": [
       "<style scoped>\n",
       "  .ansiout {\n",
       "    display: block;\n",
       "    unicode-bidi: embed;\n",
       "    white-space: pre-wrap;\n",
       "    word-wrap: break-word;\n",
       "    word-break: break-all;\n",
       "    font-family: \"Source Code Pro\", \"Menlo\", monospace;;\n",
       "    font-size: 13px;\n",
       "    color: #555;\n",
       "    margin-left: 4px;\n",
       "    line-height: 19px;\n",
       "  }\n",
       "</style>\n",
       "<div class=\"ansiout\">Evaluating RMSE, MAE of algorithm SVD on 5 split(s).\n",
       "\n",
       "                  Fold 1  Fold 2  Fold 3  Fold 4  Fold 5  Mean    Std     \n",
       "RMSE (testset)    0.7804  0.7819  0.7809  0.7823  0.7817  0.7814  0.0007  \n",
       "MAE (testset)     0.7209  0.7213  0.7206  0.7208  0.7218  0.7211  0.0004  \n",
       "Fit time          1.66    1.66    1.65    1.72    1.65    1.67    0.03    \n",
       "Test time         0.09    0.05    0.11    0.06    0.05    0.07    0.02    \n",
       "Out[40]: {&#39;test_rmse&#39;: array([0.78038046, 0.78188646, 0.7808998 , 0.78228091, 0.78167677]),\n",
       " &#39;test_mae&#39;: array([0.72090237, 0.72134543, 0.720592  , 0.72081093, 0.72177886]),\n",
       " &#39;fit_time&#39;: (1.6554601192474365,\n",
       "  1.6571154594421387,\n",
       "  1.6484947204589844,\n",
       "  1.7249929904937744,\n",
       "  1.6481268405914307),\n",
       " &#39;test_time&#39;: (0.08544397354125977,\n",
       "  0.05011916160583496,\n",
       "  0.10695314407348633,\n",
       "  0.05585813522338867,\n",
       "  0.05488014221191406)}</div>"
      ]
     },
     "metadata": {},
     "output_type": "display_data"
    }
   ],
   "source": [
    "#Cross validation\n",
    "\n",
    "#split the dataset for 5-fold cross-validation, and compute the MAE and RMSE of the SVD algorithm.\n",
    "\n",
    "from surprise.model_selection import cross_validate\n",
    "\n",
    "cross_validate(algo, data, measures=['RMSE', 'MAE'], cv=5, verbose=True)"
   ]
  },
  {
   "cell_type": "code",
   "execution_count": 64,
   "metadata": {},
   "outputs": [
    {
     "data": {
      "text/html": [
       "<div>\n",
       "<style scoped>\n",
       "    .dataframe tbody tr th:only-of-type {\n",
       "        vertical-align: middle;\n",
       "    }\n",
       "\n",
       "    .dataframe tbody tr th {\n",
       "        vertical-align: top;\n",
       "    }\n",
       "\n",
       "    .dataframe thead th {\n",
       "        text-align: right;\n",
       "    }\n",
       "</style>\n",
       "<table border=\"1\" class=\"dataframe\">\n",
       "  <thead>\n",
       "    <tr style=\"text-align: right;\">\n",
       "      <th></th>\n",
       "      <th>customer_id</th>\n",
       "      <th>categoryId</th>\n",
       "      <th>actual</th>\n",
       "      <th>cf_predictions</th>\n",
       "    </tr>\n",
       "  </thead>\n",
       "  <tbody>\n",
       "    <tr>\n",
       "      <th>0</th>\n",
       "      <td>c737dac8-78be-494f-8503-77ac1f7678eb</td>\n",
       "      <td>6</td>\n",
       "      <td>0.938833</td>\n",
       "      <td>1</td>\n",
       "    </tr>\n",
       "    <tr>\n",
       "      <th>1</th>\n",
       "      <td>faab0b8d-c556-4ad3-8474-a507f84a000a</td>\n",
       "      <td>2</td>\n",
       "      <td>1.000000</td>\n",
       "      <td>1</td>\n",
       "    </tr>\n",
       "    <tr>\n",
       "      <th>2</th>\n",
       "      <td>cb62e1a4-00cc-4080-8f13-7f4ef143019b</td>\n",
       "      <td>0</td>\n",
       "      <td>0.159300</td>\n",
       "      <td>1</td>\n",
       "    </tr>\n",
       "    <tr>\n",
       "      <th>3</th>\n",
       "      <td>3472f2f1-bd20-46a0-ba15-2bd1fb5760c2</td>\n",
       "      <td>1</td>\n",
       "      <td>0.112515</td>\n",
       "      <td>1</td>\n",
       "    </tr>\n",
       "    <tr>\n",
       "      <th>4</th>\n",
       "      <td>0183c424-98ff-46d4-8ad1-2f58c596fb08</td>\n",
       "      <td>5</td>\n",
       "      <td>0.220993</td>\n",
       "      <td>1</td>\n",
       "    </tr>\n",
       "  </tbody>\n",
       "</table>\n",
       "</div>"
      ]
     },
     "metadata": {},
     "output_type": "display_data"
    }
   ],
   "source": [
    "#make predictions on test set - showing 'actual' and 'cf_predictions' (2)\n",
    "pred_test = algo_SVD.test(testset)\n",
    "pred_test = pd.DataFrame(pred_test)\n",
    "pred_test.drop(\"details\", inplace=True, axis=1)\n",
    "pred_test.columns = ['customer_id', 'categoryId', 'actual', 'cf_predictions']\n",
    "pred_test.head()"
   ]
  },
  {
   "cell_type": "code",
   "execution_count": 65,
   "metadata": {},
   "outputs": [
    {
     "data": {
      "text/html": [
       "<style scoped>\n",
       "  .ansiout {\n",
       "    display: block;\n",
       "    unicode-bidi: embed;\n",
       "    white-space: pre-wrap;\n",
       "    word-wrap: break-word;\n",
       "    word-break: break-all;\n",
       "    font-family: \"Source Code Pro\", \"Menlo\", monospace;;\n",
       "    font-size: 13px;\n",
       "    color: #555;\n",
       "    margin-left: 4px;\n",
       "    line-height: 19px;\n",
       "  }\n",
       "</style>\n",
       "<div class=\"ansiout\">0.6072062535000325\n",
       "0.7792344021538272\n",
       "</div>"
      ]
     },
     "metadata": {},
     "output_type": "display_data"
    }
   ],
   "source": [
    "#Recmetrics: MSE, RMSE\n",
    "\n",
    "import recmetrics\n",
    "\n",
    "#evaluate model with MSE and RMSE\n",
    "print(recmetrics.mse(pred_test.actual, pred_test.cf_predictions))\n",
    "print(recmetrics.rmse(pred_test.actual, pred_test.cf_predictions))\n"
   ]
  },
  {
   "cell_type": "code",
   "execution_count": 66,
   "metadata": {},
   "outputs": [
    {
     "data": {
      "text/html": [
       "<style scoped>\n",
       "  .ansiout {\n",
       "    display: block;\n",
       "    unicode-bidi: embed;\n",
       "    white-space: pre-wrap;\n",
       "    word-wrap: break-word;\n",
       "    word-break: break-all;\n",
       "    font-family: \"Source Code Pro\", \"Menlo\", monospace;;\n",
       "    font-size: 13px;\n",
       "    color: #555;\n",
       "    margin-left: 4px;\n",
       "    line-height: 19px;\n",
       "  }\n",
       "</style>\n",
       "<div class=\"ansiout\"></div>"
      ]
     },
     "metadata": {},
     "output_type": "display_data"
    }
   ],
   "source": [
    "#create model (matrix of predicted values)\n",
    "cf_model = pred_test.pivot_table(index='customer_id', columns='categoryId', values='cf_predictions').fillna(0)"
   ]
  },
  {
   "cell_type": "code",
   "execution_count": 67,
   "metadata": {},
   "outputs": [
    {
     "data": {
      "text/html": [
       "<style scoped>\n",
       "  .ansiout {\n",
       "    display: block;\n",
       "    unicode-bidi: embed;\n",
       "    white-space: pre-wrap;\n",
       "    word-wrap: break-word;\n",
       "    word-break: break-all;\n",
       "    font-family: \"Source Code Pro\", \"Menlo\", monospace;;\n",
       "    font-size: 13px;\n",
       "    color: #555;\n",
       "    margin-left: 4px;\n",
       "    line-height: 19px;\n",
       "  }\n",
       "</style>\n",
       "<div class=\"ansiout\"></div>"
      ]
     },
     "metadata": {},
     "output_type": "display_data"
    }
   ],
   "source": [
    "#function for recommended items\n",
    "\n",
    "def get_users_predictions(customer_id, n, model):\n",
    "    recommended_items = pd.DataFrame(model.loc[customer_id])\n",
    "    recommended_items.columns = [\"predicted_Cat\"]\n",
    "    recommended_items = recommended_items.sort_values('predicted_Cat', ascending=False)    \n",
    "    recommended_items = recommended_items.head(n)\n",
    "    return recommended_items.index.tolist()"
   ]
  },
  {
   "cell_type": "code",
   "execution_count": 68,
   "metadata": {},
   "outputs": [
    {
     "data": {
      "text/html": [
       "<div>\n",
       "<style scoped>\n",
       "    .dataframe tbody tr th:only-of-type {\n",
       "        vertical-align: middle;\n",
       "    }\n",
       "\n",
       "    .dataframe tbody tr th {\n",
       "        vertical-align: top;\n",
       "    }\n",
       "\n",
       "    .dataframe thead th {\n",
       "        text-align: right;\n",
       "    }\n",
       "</style>\n",
       "<table border=\"1\" class=\"dataframe\">\n",
       "  <thead>\n",
       "    <tr style=\"text-align: right;\">\n",
       "      <th></th>\n",
       "      <th>actual</th>\n",
       "      <th>cf_predictions</th>\n",
       "    </tr>\n",
       "    <tr>\n",
       "      <th>customer_id</th>\n",
       "      <th></th>\n",
       "      <th></th>\n",
       "    </tr>\n",
       "  </thead>\n",
       "  <tbody>\n",
       "    <tr>\n",
       "      <th>000c0667-af47-4229-acec-8b98590d1752</th>\n",
       "      <td>[0, 3]</td>\n",
       "      <td>[0, 3, 1, 2, 4, 5, 6, 7, 8]</td>\n",
       "    </tr>\n",
       "    <tr>\n",
       "      <th>0016ee8d-e2d6-4dd9-9559-3be13e9f53b5</th>\n",
       "      <td>[6, 7]</td>\n",
       "      <td>[6, 7, 0, 1, 2, 3, 4, 5, 8]</td>\n",
       "    </tr>\n",
       "    <tr>\n",
       "      <th>0019acea-38df-4de4-8b01-3b6dcf048f45</th>\n",
       "      <td>[5]</td>\n",
       "      <td>[5, 0, 1, 2, 3, 4, 6, 7, 8]</td>\n",
       "    </tr>\n",
       "    <tr>\n",
       "      <th>0023c164-f35c-4f67-b706-d6954c0e816c</th>\n",
       "      <td>[0, 6]</td>\n",
       "      <td>[0, 6, 1, 2, 3, 4, 5, 7, 8]</td>\n",
       "    </tr>\n",
       "    <tr>\n",
       "      <th>002b0186-9b02-48ac-823e-44d66cc7684a</th>\n",
       "      <td>[7]</td>\n",
       "      <td>[7, 0, 1, 2, 3, 4, 5, 6, 8]</td>\n",
       "    </tr>\n",
       "  </tbody>\n",
       "</table>\n",
       "</div>"
      ]
     },
     "metadata": {},
     "output_type": "display_data"
    }
   ],
   "source": [
    "#format test data\n",
    "pred_test = pred_test.copy().groupby('customer_id')['categoryId'].agg({'actual': (lambda x: list(set(x)))})\n",
    "#make recommendations for all members in the test data\n",
    "cf_recs = [] = []\n",
    "for user in pred_test.index:\n",
    "    cf_predictions = get_users_predictions(user, 10, cf_model)\n",
    "    cf_recs.append(cf_predictions)\n",
    "        \n",
    "pred_test['cf_predictions'] = cf_recs\n",
    "pred_test.head()"
   ]
  },
  {
   "cell_type": "markdown",
   "metadata": {},
   "source": [
    "### Popularity Recommender\n",
    "Creating a simple popularity recommender to demonstrate recommender metrics in action. The popularity recommender simply recommends the top 10 movies to every user."
   ]
  },
  {
   "cell_type": "code",
   "execution_count": 70,
   "metadata": {},
   "outputs": [
    {
     "data": {
      "text/html": [
       "<div>\n",
       "<style scoped>\n",
       "    .dataframe tbody tr th:only-of-type {\n",
       "        vertical-align: middle;\n",
       "    }\n",
       "\n",
       "    .dataframe tbody tr th {\n",
       "        vertical-align: top;\n",
       "    }\n",
       "\n",
       "    .dataframe thead th {\n",
       "        text-align: right;\n",
       "    }\n",
       "</style>\n",
       "<table border=\"1\" class=\"dataframe\">\n",
       "  <thead>\n",
       "    <tr style=\"text-align: right;\">\n",
       "      <th></th>\n",
       "      <th>actual</th>\n",
       "      <th>cf_predictions</th>\n",
       "      <th>pop_predictions</th>\n",
       "    </tr>\n",
       "    <tr>\n",
       "      <th>customer_id</th>\n",
       "      <th></th>\n",
       "      <th></th>\n",
       "      <th></th>\n",
       "    </tr>\n",
       "  </thead>\n",
       "  <tbody>\n",
       "    <tr>\n",
       "      <th>000c0667-af47-4229-acec-8b98590d1752</th>\n",
       "      <td>[0, 3]</td>\n",
       "      <td>[0, 3, 1, 2, 4, 5, 6, 7, 8]</td>\n",
       "      <td>[0, 6, 7, 5, 1, 4, 3, 2, 8]</td>\n",
       "    </tr>\n",
       "    <tr>\n",
       "      <th>0016ee8d-e2d6-4dd9-9559-3be13e9f53b5</th>\n",
       "      <td>[6, 7]</td>\n",
       "      <td>[6, 7, 0, 1, 2, 3, 4, 5, 8]</td>\n",
       "      <td>[0, 6, 7, 5, 1, 4, 3, 2, 8]</td>\n",
       "    </tr>\n",
       "    <tr>\n",
       "      <th>0019acea-38df-4de4-8b01-3b6dcf048f45</th>\n",
       "      <td>[5]</td>\n",
       "      <td>[5, 0, 1, 2, 3, 4, 6, 7, 8]</td>\n",
       "      <td>[0, 6, 7, 5, 1, 4, 3, 2, 8]</td>\n",
       "    </tr>\n",
       "    <tr>\n",
       "      <th>0023c164-f35c-4f67-b706-d6954c0e816c</th>\n",
       "      <td>[0, 6]</td>\n",
       "      <td>[0, 6, 1, 2, 3, 4, 5, 7, 8]</td>\n",
       "      <td>[0, 6, 7, 5, 1, 4, 3, 2, 8]</td>\n",
       "    </tr>\n",
       "    <tr>\n",
       "      <th>002b0186-9b02-48ac-823e-44d66cc7684a</th>\n",
       "      <td>[7]</td>\n",
       "      <td>[7, 0, 1, 2, 3, 4, 5, 6, 8]</td>\n",
       "      <td>[0, 6, 7, 5, 1, 4, 3, 2, 8]</td>\n",
       "    </tr>\n",
       "  </tbody>\n",
       "</table>\n",
       "</div>"
      ]
     },
     "metadata": {},
     "output_type": "display_data"
    }
   ],
   "source": [
    "#make recommendations for all members in the test data\n",
    "popularity_recs = rec_sys_merge.categoryId.value_counts().head(10).index.tolist()\n",
    "\n",
    "pop_recs = []\n",
    "for user in pred_test.index:\n",
    "    pop_predictions = popularity_recs\n",
    "    pop_recs.append(pop_predictions)\n",
    "        \n",
    "pred_test['pop_predictions'] = pop_recs\n",
    "pred_test.head()"
   ]
  },
  {
   "cell_type": "markdown",
   "metadata": {},
   "source": [
    "### Random Recommender\n",
    "Creating a simple random recommender to demonstrate recommender metrics in action. The random recommender simply recommends 10 random movies to every user."
   ]
  },
  {
   "cell_type": "code",
   "execution_count": 72,
   "metadata": {},
   "outputs": [
    {
     "data": {
      "text/html": [
       "<div>\n",
       "<style scoped>\n",
       "    .dataframe tbody tr th:only-of-type {\n",
       "        vertical-align: middle;\n",
       "    }\n",
       "\n",
       "    .dataframe tbody tr th {\n",
       "        vertical-align: top;\n",
       "    }\n",
       "\n",
       "    .dataframe thead th {\n",
       "        text-align: right;\n",
       "    }\n",
       "</style>\n",
       "<table border=\"1\" class=\"dataframe\">\n",
       "  <thead>\n",
       "    <tr style=\"text-align: right;\">\n",
       "      <th></th>\n",
       "      <th>actual</th>\n",
       "      <th>cf_predictions</th>\n",
       "      <th>pop_predictions</th>\n",
       "      <th>random_predictions</th>\n",
       "    </tr>\n",
       "    <tr>\n",
       "      <th>customer_id</th>\n",
       "      <th></th>\n",
       "      <th></th>\n",
       "      <th></th>\n",
       "      <th></th>\n",
       "    </tr>\n",
       "  </thead>\n",
       "  <tbody>\n",
       "    <tr>\n",
       "      <th>000c0667-af47-4229-acec-8b98590d1752</th>\n",
       "      <td>[0, 3]</td>\n",
       "      <td>[0, 3, 1, 2, 4, 5, 6, 7, 8]</td>\n",
       "      <td>[0, 6, 7, 5, 1, 4, 3, 2, 8]</td>\n",
       "      <td>[6, 6, 0, 7, 6, 3, 4, 6, 6, 2]</td>\n",
       "    </tr>\n",
       "    <tr>\n",
       "      <th>0016ee8d-e2d6-4dd9-9559-3be13e9f53b5</th>\n",
       "      <td>[6, 7]</td>\n",
       "      <td>[6, 7, 0, 1, 2, 3, 4, 5, 8]</td>\n",
       "      <td>[0, 6, 7, 5, 1, 4, 3, 2, 8]</td>\n",
       "      <td>[6, 6, 1, 3, 4, 3, 7, 1, 6, 5]</td>\n",
       "    </tr>\n",
       "    <tr>\n",
       "      <th>0019acea-38df-4de4-8b01-3b6dcf048f45</th>\n",
       "      <td>[5]</td>\n",
       "      <td>[5, 0, 1, 2, 3, 4, 6, 7, 8]</td>\n",
       "      <td>[0, 6, 7, 5, 1, 4, 3, 2, 8]</td>\n",
       "      <td>[1, 0, 5, 6, 7, 6, 0, 1, 6, 3]</td>\n",
       "    </tr>\n",
       "    <tr>\n",
       "      <th>0023c164-f35c-4f67-b706-d6954c0e816c</th>\n",
       "      <td>[0, 6]</td>\n",
       "      <td>[0, 6, 1, 2, 3, 4, 5, 7, 8]</td>\n",
       "      <td>[0, 6, 7, 5, 1, 4, 3, 2, 8]</td>\n",
       "      <td>[0, 7, 1, 7, 0, 6, 0, 4, 6, 2]</td>\n",
       "    </tr>\n",
       "    <tr>\n",
       "      <th>002b0186-9b02-48ac-823e-44d66cc7684a</th>\n",
       "      <td>[7]</td>\n",
       "      <td>[7, 0, 1, 2, 3, 4, 5, 6, 8]</td>\n",
       "      <td>[0, 6, 7, 5, 1, 4, 3, 2, 8]</td>\n",
       "      <td>[3, 6, 3, 0, 4, 6, 5, 6, 7, 1]</td>\n",
       "    </tr>\n",
       "  </tbody>\n",
       "</table>\n",
       "</div>"
      ]
     },
     "metadata": {},
     "output_type": "display_data"
    }
   ],
   "source": [
    "#make recommendations for all members in the test data\n",
    "\n",
    "ran_recs = []\n",
    "for user in pred_test.index:\n",
    "    random_predictions = rec_sys_merge.categoryId.sample(10).values.tolist()\n",
    "    ran_recs.append(random_predictions)\n",
    "        \n",
    "pred_test['random_predictions'] = ran_recs\n",
    "pred_test.head()"
   ]
  },
  {
   "cell_type": "code",
   "execution_count": 73,
   "metadata": {},
   "outputs": [
    {
     "data": {
      "text/html": [
       "<style scoped>\n",
       "  .ansiout {\n",
       "    display: block;\n",
       "    unicode-bidi: embed;\n",
       "    white-space: pre-wrap;\n",
       "    word-wrap: break-word;\n",
       "    word-break: break-all;\n",
       "    font-family: \"Source Code Pro\", \"Menlo\", monospace;;\n",
       "    font-size: 13px;\n",
       "    color: #555;\n",
       "    margin-left: 4px;\n",
       "    line-height: 19px;\n",
       "  }\n",
       "</style>\n",
       "<div class=\"ansiout\"></div>"
      ]
     },
     "metadata": {},
     "output_type": "display_data"
    }
   ],
   "source": [
    "actual = pred_test.actual.values.tolist()\n",
    "cf_predictions = pred_test.cf_predictions.values.tolist()\n",
    "pop_predictions = pred_test.pop_predictions.values.tolist()\n",
    "random_predictions = pred_test.random_predictions.values.tolist()"
   ]
  },
  {
   "cell_type": "code",
   "execution_count": 74,
   "metadata": {},
   "outputs": [
    {
     "data": {
      "text/html": [
       "<style scoped>\n",
       "  .ansiout {\n",
       "    display: block;\n",
       "    unicode-bidi: embed;\n",
       "    white-space: pre-wrap;\n",
       "    word-wrap: break-word;\n",
       "    word-break: break-all;\n",
       "    font-family: \"Source Code Pro\", \"Menlo\", monospace;;\n",
       "    font-size: 13px;\n",
       "    color: #555;\n",
       "    margin-left: 4px;\n",
       "    line-height: 19px;\n",
       "  }\n",
       "</style>\n",
       "<div class=\"ansiout\">Out[71]: [0.22154448969517462,\n",
       " 0.3501311242749599,\n",
       " 0.40437543708091656,\n",
       " 0.4336331194207907,\n",
       " 0.4575761035007611,\n",
       " 0.4801217656012176,\n",
       " 0.4985734854228005,\n",
       " 0.5113928115982911,\n",
       " 0.5115573597080447,\n",
       " 0.5115573597080447]</div>"
      ]
     },
     "metadata": {},
     "output_type": "display_data"
    }
   ],
   "source": [
    "pop_mark = []\n",
    "for K in np.arange(1, 11):\n",
    "    pop_mark.extend([recmetrics.mark(actual, pop_predictions, k=K)])\n",
    "pop_mark"
   ]
  },
  {
   "cell_type": "code",
   "execution_count": 75,
   "metadata": {},
   "outputs": [
    {
     "data": {
      "text/html": [
       "<style scoped>\n",
       "  .ansiout {\n",
       "    display: block;\n",
       "    unicode-bidi: embed;\n",
       "    white-space: pre-wrap;\n",
       "    word-wrap: break-word;\n",
       "    word-break: break-all;\n",
       "    font-family: \"Source Code Pro\", \"Menlo\", monospace;;\n",
       "    font-size: 13px;\n",
       "    color: #555;\n",
       "    margin-left: 4px;\n",
       "    line-height: 19px;\n",
       "  }\n",
       "</style>\n",
       "<div class=\"ansiout\">Out[72]: [0.15388127853881278,\n",
       " 0.22356226089102801,\n",
       " 0.2634394668641244,\n",
       " 0.29010860175243736,\n",
       " 0.30841046525978033,\n",
       " 0.3213573162203299,\n",
       " 0.33006925712405166,\n",
       " 0.3373420264687388,\n",
       " 0.3430360766833369,\n",
       " 0.3474628322059829]</div>"
      ]
     },
     "metadata": {},
     "output_type": "display_data"
    }
   ],
   "source": [
    "random_mark = []\n",
    "for K in np.arange(1, 11):\n",
    "    random_mark.extend([recmetrics.mark(actual, random_predictions, k=K)])\n",
    "random_mark"
   ]
  },
  {
   "cell_type": "code",
   "execution_count": 76,
   "metadata": {},
   "outputs": [
    {
     "data": {
      "text/html": [
       "<style scoped>\n",
       "  .ansiout {\n",
       "    display: block;\n",
       "    unicode-bidi: embed;\n",
       "    white-space: pre-wrap;\n",
       "    word-wrap: break-word;\n",
       "    word-break: break-all;\n",
       "    font-family: \"Source Code Pro\", \"Menlo\", monospace;;\n",
       "    font-size: 13px;\n",
       "    color: #555;\n",
       "    margin-left: 4px;\n",
       "    line-height: 19px;\n",
       "  }\n",
       "</style>\n",
       "<div class=\"ansiout\">Out[73]: [0.7947334320621992,\n",
       " 0.9643280266567936,\n",
       " 0.9950851536467974,\n",
       " 0.9993088979390349,\n",
       " 0.9998765889176847,\n",
       " 1.0,\n",
       " 1.0,\n",
       " 1.0,\n",
       " 1.0,\n",
       " 1.0]</div>"
      ]
     },
     "metadata": {},
     "output_type": "display_data"
    }
   ],
   "source": [
    "cf_mark = []\n",
    "for K in np.arange(1, 11):\n",
    "    cf_mark.extend([recmetrics.mark(actual, cf_predictions, k=K)])\n",
    "cf_mark"
   ]
  },
  {
   "cell_type": "code",
   "execution_count": 77,
   "metadata": {},
   "outputs": [
    {
     "data": {
      "image/png": "[encoded data removed]"
     },
     "metadata": {},
     "output_type": "display_data"
    }
   ],
   "source": [
    "mark_scores = [random_mark, pop_mark, cf_mark]\n",
    "index = range(1,10+1)\n",
    "names = ['Random Recommender', 'Popularity Recommender', 'Collaborative Filter']\n",
    "\n",
    "fig = plt.figure(figsize=(15, 7))\n",
    "recmetrics.mark_plot(mark_scores, model_names=names, k_range=index)"
   ]
  },
  {
   "cell_type": "code",
   "execution_count": 78,
   "metadata": {},
   "outputs": [
    {
     "data": {
      "image/png": "[encoded data removed]"
     },
     "metadata": {},
     "output_type": "display_data"
    }
   ],
   "source": [
    "import numpy as np\n",
    "\n",
    "model_probs = np.concatenate([np.random.normal(loc=.2, scale=0.5, size=500), np.random.normal(loc=.9, scale=0.5, size=500)])\n",
    "actual = [0] * 500\n",
    "class_zero_actual = [1] * 500\n",
    "actual.extend(class_zero_actual)\n",
    "\n",
    "recmetrics.roc_plot(actual, model_probs, model_names=\"SVD algorithm\",  figsize=(10, 5))"
   ]
  },
  {
   "cell_type": "markdown",
   "metadata": {},
   "source": [
    "### Precision Recall Curve"
   ]
  },
  {
   "cell_type": "code",
   "execution_count": 80,
   "metadata": {},
   "outputs": [
    {
     "data": {
      "image/png": "[encoded data removed]"
     },
     "metadata": {},
     "output_type": "display_data"
    }
   ],
   "source": [
    "recmetrics.precision_recall_plot(targs=actual, preds=model_probs)"
   ]
  }
 ],
 "metadata": {
  "kernelspec": {
   "display_name": "Python 3",
   "language": "python",
   "name": "python3"
  },
  "language_info": {
   "codemirror_mode": {
    "name": "ipython",
    "version": 3
   },
   "file_extension": ".py",
   "mimetype": "text/x-python",
   "name": "python",
   "nbconvert_exporter": "python",
   "pygments_lexer": "ipython3",
   "version": "3.7.4"
  },
  "name": "3. Modelling",
  "notebookId": 3969862723487804
 },
 "nbformat": 4,
 "nbformat_minor": 1
}
